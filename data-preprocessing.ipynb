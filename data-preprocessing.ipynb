{
 "cells": [
  {
   "cell_type": "markdown",
   "id": "544b6a22-7da0-4d75-a74c-1b6dfd6ba5a0",
   "metadata": {},
   "source": [
    "# Set up \n",
    "\n",
    "## Check Environment "
   ]
  },
  {
   "cell_type": "code",
   "execution_count": 2,
   "id": "b4ae9065-6964-4078-971d-819cb3123697",
   "metadata": {
    "tags": []
   },
   "outputs": [
    {
     "ename": "ModuleNotFoundError",
     "evalue": "No module named 'boto3'",
     "output_type": "error",
     "traceback": [
      "\u001b[1;31m---------------------------------------------------------------------------\u001b[0m",
      "\u001b[1;31mModuleNotFoundError\u001b[0m                       Traceback (most recent call last)",
      "\u001b[1;32m~\\AppData\\Local\\Temp/ipykernel_22956/1044343858.py\u001b[0m in \u001b[0;36m<module>\u001b[1;34m\u001b[0m\n\u001b[1;32m----> 1\u001b[1;33m \u001b[1;32mimport\u001b[0m \u001b[0mboto3\u001b[0m\u001b[1;33m\u001b[0m\u001b[1;33m\u001b[0m\u001b[0m\n\u001b[0m\u001b[0;32m      2\u001b[0m \u001b[1;33m\u001b[0m\u001b[0m\n\u001b[0;32m      3\u001b[0m \u001b[0mregion\u001b[0m \u001b[1;33m=\u001b[0m \u001b[0mboto3\u001b[0m\u001b[1;33m.\u001b[0m\u001b[0mSession\u001b[0m\u001b[1;33m(\u001b[0m\u001b[1;33m)\u001b[0m\u001b[1;33m.\u001b[0m\u001b[0mregion_name\u001b[0m\u001b[1;33m\u001b[0m\u001b[1;33m\u001b[0m\u001b[0m\n\u001b[0;32m      4\u001b[0m \u001b[0msession\u001b[0m \u001b[1;33m=\u001b[0m \u001b[0mboto3\u001b[0m\u001b[1;33m.\u001b[0m\u001b[0msession\u001b[0m\u001b[1;33m.\u001b[0m\u001b[0mSession\u001b[0m\u001b[1;33m(\u001b[0m\u001b[1;33m)\u001b[0m\u001b[1;33m\u001b[0m\u001b[1;33m\u001b[0m\u001b[0m\n\u001b[0;32m      5\u001b[0m \u001b[1;33m\u001b[0m\u001b[0m\n",
      "\u001b[1;31mModuleNotFoundError\u001b[0m: No module named 'boto3'"
     ]
    }
   ],
   "source": [
    "import boto3\n",
    "\n",
    "region = boto3.Session().region_name\n",
    "session = boto3.session.Session()\n",
    "\n",
    "ec2 = boto3.Session().client(service_name=\"ec2\", region_name=region)\n",
    "sm = boto3.Session().client(service_name=\"sagemaker\", region_name=region)"
   ]
  },
  {
   "cell_type": "markdown",
   "id": "f2679010-3b8e-4843-8118-63eaf45bb0bd",
   "metadata": {},
   "source": [
    "## Update IAM Roles and Policies"
   ]
  },
  {
   "cell_type": "code",
   "execution_count": null,
   "id": "7a5705df-9505-4f0f-a2d4-fd9244caa68d",
   "metadata": {
    "tags": []
   },
   "outputs": [],
   "source": [
    "import sagemaker\n",
    "import time\n",
    "from time import gmtime, strftime\n",
    "\n",
    "sagemaker_session = sagemaker.Session()\n",
    "role = sagemaker.get_execution_role()\n",
    "bucket = sagemaker_session.default_bucket()\n",
    "region = boto3.Session().region_name\n",
    "\n",
    "from botocore.config import Config\n",
    "\n",
    "config = Config(retries={\"max_attempts\": 10, \"mode\": \"adaptive\"})\n",
    "\n",
    "iam = boto3.client(\"iam\", config=config)"
   ]
  },
  {
   "cell_type": "code",
   "execution_count": null,
   "id": "dfc59837-b3bc-4335-bf7e-80b9d866bcfd",
   "metadata": {
    "tags": []
   },
   "outputs": [],
   "source": [
    "role_name = role.split(\"/\")[-1]\n",
    "\n",
    "print(\"Role name: {}\".format(role_name))"
   ]
  },
  {
   "cell_type": "markdown",
   "id": "bfbe1100-813c-43f5-ad87-3f43471a5f4b",
   "metadata": {},
   "source": [
    "## Import Libraries"
   ]
  },
  {
   "cell_type": "code",
   "execution_count": null,
   "id": "1fbe1a06-146a-4836-93fb-4230808a40a5",
   "metadata": {
    "tags": []
   },
   "outputs": [],
   "source": [
    "import pandas as pd\n",
    "import numpy as np\n",
    "import matplotlib.pyplot as plt\n",
    "! pip install descartes\n",
    "! pip install geopandas\n",
    "!pip install wordcloud\n",
    "import geopandas as gpd\n",
    "from tqdm import tqdm  \n",
    "from geopandas import GeoDataFrame, points_from_xy\n",
    "from wordcloud import WordCloud"
   ]
  },
  {
   "cell_type": "code",
   "execution_count": null,
   "id": "6dd9165a-6bb7-467a-ace0-fd0d22bf1ea7",
   "metadata": {},
   "outputs": [],
   "source": [
    "s3_public_path = \"s3://sagemaker-studio-458903497716-h2kl4ff3dz/data\""
   ]
  },
  {
   "cell_type": "code",
   "execution_count": null,
   "id": "2513e31f-b8b4-45dd-8863-9440f786811c",
   "metadata": {},
   "outputs": [],
   "source": [
    "%store s3_public_path"
   ]
  },
  {
   "cell_type": "code",
   "execution_count": null,
   "id": "b86852f1-3e52-4377-a42d-cc90da590804",
   "metadata": {},
   "outputs": [],
   "source": [
    "s3_private_path = \"s3://{}/gunData\".format(bucket)\n",
    "s3_private_path"
   ]
  },
  {
   "cell_type": "code",
   "execution_count": null,
   "id": "af9c6e3d-401c-4bea-b393-ebe8c7fe280c",
   "metadata": {},
   "outputs": [],
   "source": [
    "%store s3_private_path"
   ]
  },
  {
   "cell_type": "code",
   "execution_count": null,
   "id": "9a7ffc10-6456-4acb-bbf0-4d23072cb4fd",
   "metadata": {},
   "outputs": [],
   "source": [
    "!aws s3 cp --recursive $s3_public_path/ $s3_private_path/ --include \"*\" "
   ]
  },
  {
   "cell_type": "markdown",
   "id": "1978a323-fe9e-4c5c-b448-fb42a6f47c0a",
   "metadata": {},
   "source": [
    "# Create Database Schema in Athena"
   ]
  },
  {
   "cell_type": "code",
   "execution_count": null,
   "id": "fbfdde23-e09d-482d-93be-b7361eff135c",
   "metadata": {
    "tags": []
   },
   "outputs": [],
   "source": [
    "import boto3\n",
    "import sagemaker\n",
    "\n",
    "sess = sagemaker.Session()\n",
    "bucket = '{}/gunData'.format(bucket)\n",
    "role = sagemaker.get_execution_role()\n",
    "region = boto3.Session().region_name\n",
    "bucket"
   ]
  },
  {
   "cell_type": "code",
   "execution_count": null,
   "id": "8042c816-1eac-4ff3-b5a9-30a781887cd6",
   "metadata": {
    "tags": []
   },
   "outputs": [],
   "source": [
    "!pip install --disable-pip-version-check -q PyAthena==2.1.0\n",
    "from pyathena import connect"
   ]
  },
  {
   "cell_type": "code",
   "execution_count": null,
   "id": "f9a285fe-a778-4e37-a27f-c87ddc30237e",
   "metadata": {
    "tags": []
   },
   "outputs": [],
   "source": [
    "#assign database name\n",
    "database_name = \"ads508\""
   ]
  },
  {
   "cell_type": "code",
   "execution_count": null,
   "id": "5a8cd20c-a4d5-4e19-8494-5325227171a3",
   "metadata": {
    "tags": []
   },
   "outputs": [],
   "source": [
    "# Set S3 staging directory -- this is a temporary directory used for Athena queries\n",
    "s3_staging_dir = \"s3://{0}/athena/staging\".format(bucket)"
   ]
  },
  {
   "cell_type": "code",
   "execution_count": null,
   "id": "c0172f60-9813-4944-b1b6-c1a6f9309a79",
   "metadata": {
    "tags": []
   },
   "outputs": [],
   "source": [
    "conn = connect(region_name=region, s3_staging_dir=s3_staging_dir)"
   ]
  },
  {
   "cell_type": "code",
   "execution_count": null,
   "id": "57d73501-30f2-4995-8c4a-fbf0e6e27d2a",
   "metadata": {
    "tags": []
   },
   "outputs": [],
   "source": [
    "#create new database 'ads508'\n",
    "statement = \"CREATE DATABASE IF NOT EXISTS {}\".format(database_name)\n",
    "create_db = pd.read_sql(statement, conn)\n",
    "create_db"
   ]
  },
  {
   "cell_type": "code",
   "execution_count": null,
   "id": "05142a70-27d6-4788-817b-3dd82d10743f",
   "metadata": {
    "tags": []
   },
   "outputs": [],
   "source": [
    "#verify database creation\n",
    "q = \"SHOW DATABASES\"\n",
    "db_show = pd.read_sql(q, conn)\n",
    "db_show"
   ]
  },
  {
   "cell_type": "markdown",
   "id": "e4d154cc-0e38-46b3-9560-23c211acdeff",
   "metadata": {},
   "source": [
    "## Create Athena Table"
   ]
  },
  {
   "cell_type": "code",
   "execution_count": null,
   "id": "655c904c-62c9-401f-96d5-c8feacae6e76",
   "metadata": {
    "tags": []
   },
   "outputs": [],
   "source": [
    "# Set Athena parameters\n",
    "database_name = \"ads508\"\n",
    "table_name_csv = \"gun_violence\"\n",
    "s3_path = \"s3://{}\".format(bucket)\n",
    "print(s3_path)"
   ]
  },
  {
   "cell_type": "code",
   "execution_count": null,
   "id": "9809b4c6-fa1a-4d24-b567-f301287efa6a",
   "metadata": {
    "tags": []
   },
   "outputs": [],
   "source": [
    "# SQL statement to execute\n",
    "statement = \"\"\"CREATE EXTERNAL TABLE IF NOT EXISTS {}.{}(\n",
    "         incident_id int,\n",
    "         date date,\n",
    "         state string,\n",
    "         city_or_county string,\n",
    "         address string,\n",
    "         n_killed int,\n",
    "         n_injured int,\n",
    "         incident_url string,\n",
    "         source_url string,\n",
    "         incident_url_fields_missing string,\n",
    "         congressional_district int,\n",
    "         gun_stolen string,\n",
    "         gun_type string,\n",
    "         incident_characteristics string,\n",
    "         latitude int,\n",
    "         location_description string,\n",
    "         longitude int,\n",
    "         n_guns_involved int,\n",
    "         notes string,\n",
    "         participant_age string,\n",
    "         participant_age_group string,\n",
    "         participant_gender string,\n",
    "         participant_name string,\n",
    "         participant_relationship string,\n",
    "         participant_status string,\n",
    "         participant_type string,\n",
    "         sources string,\n",
    "         state_house_district int,\n",
    "         state_senate_district int\n",
    ") ROW FORMAT DELIMITED FIELDS TERMINATED BY ',' LINES TERMINATED BY '\\\\n' LOCATION '{}'\n",
    "TBLPROPERTIES ('skip.header.line.count'='1')\"\"\".format(\n",
    "    database_name, table_name_csv, s3_path\n",
    ")\n",
    "\n",
    "create_table = pd.read_sql(statement, conn)\n",
    "create_table"
   ]
  },
  {
   "cell_type": "code",
   "execution_count": null,
   "id": "3b3fc3e4-6a35-4d89-827c-dd9f80d2c345",
   "metadata": {
    "tags": []
   },
   "outputs": [],
   "source": [
    "table_name_csv_1 = \"est2018\"\n",
    "s3_path_1 = \"s3://{}/census2010_data\".format(bucket)\n",
    "print(s3_path_1)"
   ]
  },
  {
   "cell_type": "code",
   "execution_count": null,
   "id": "04594e67-5635-42de-88bf-bfd3b14d5d19",
   "metadata": {
    "tags": []
   },
   "outputs": [],
   "source": [
    "# SQL statement to execute\n",
    "\n",
    "statement = \"\"\"CREATE EXTERNAL TABLE IF NOT EXISTS {}.{}(\n",
    "    sumlev int,\n",
    "    state int,\n",
    "    county int,\n",
    "    place int,\n",
    "    cousub int,\n",
    "    concit int,\n",
    "    primgeo_flag int,\n",
    "    funcstat int,\n",
    "    name string,\n",
    "    stname string,\n",
    "    census2010pop int,\n",
    "    estimatesbase2010 int,\n",
    "    popestimates2010 int,\n",
    "    popestimates2011 int,\n",
    "    popestimates2012 int,\n",
    "    popestimates2013 int,\n",
    "    popestimates2014 int,\n",
    "    popestimates2015 int,\n",
    "    popestimates2016 int,\n",
    "    popestimates2017 int,\n",
    "    popestimates2018 int\n",
    "         \n",
    ") ROW FORMAT DELIMITED FIELDS TERMINATED BY ',' LINES TERMINATED BY '\\\\n' LOCATION '{}'\n",
    "TBLPROPERTIES ('skip.header.line.count'='1')\"\"\".format(\n",
    "    database_name, table_name_csv_1, s3_path_1\n",
    ")\n",
    "\n",
    "create_table_1 = pd.read_sql(statement, conn)\n",
    "create_table_1"
   ]
  },
  {
   "cell_type": "code",
   "execution_count": null,
   "id": "83822cde-5e68-4f10-91d6-cbc6639eca29",
   "metadata": {
    "tags": []
   },
   "outputs": [],
   "source": [
    "statement = \"SHOW TABLES in ads508\"\n",
    "tables = pd.read_sql(statement, conn)\n",
    "tables"
   ]
  },
  {
   "cell_type": "code",
   "execution_count": null,
   "id": "2af401ce-8436-4e9a-9d9f-41f2f70e7e4d",
   "metadata": {
    "tags": []
   },
   "outputs": [],
   "source": [
    "statement = \"SELECT * from ads508.gun_violence LIMIT 100\"\n",
    "df = pd.read_sql(statement, conn)\n",
    "df.head(5)"
   ]
  },
  {
   "cell_type": "code",
   "execution_count": null,
   "id": "ea6f63c9-7a33-4d09-8b63-72947f9e3c4d",
   "metadata": {
    "tags": []
   },
   "outputs": [],
   "source": [
    "statement = \"SELECT * from ads508.est2018 LIMIT 100\"\n",
    "df_pop = pd.read_sql(statement, conn)\n",
    "df_pop.head(5)"
   ]
  },
  {
   "cell_type": "markdown",
   "id": "32bde790-e6c1-4733-926a-e51d69433d4a",
   "metadata": {},
   "source": [
    "# Insert Dataset into Pandas Dataframe"
   ]
  },
  {
   "cell_type": "code",
   "execution_count": null,
   "id": "9f21490b-1c10-46b3-9ea0-5a46af541a98",
   "metadata": {},
   "outputs": [],
   "source": [
    "df = pd.read_csv(\"{}/gun_violence.csv\".format(s3_path))\n",
    "df.head()"
   ]
  },
  {
   "cell_type": "markdown",
   "id": "dc21fc98-27f4-429d-ae4a-9d9b83d737e7",
   "metadata": {
    "tags": []
   },
   "source": [
    "# Feature Engineering"
   ]
  },
  {
   "cell_type": "code",
   "execution_count": null,
   "id": "3ee9052c-7dd4-4297-a2b5-ce128543fae8",
   "metadata": {
    "tags": []
   },
   "outputs": [],
   "source": [
    "### Parse gun_type column and display histogram of gun type frequency"
   ]
  },
  {
   "cell_type": "code",
   "execution_count": null,
   "id": "41873938-c274-442f-a7d8-a95ff1fef9a4",
   "metadata": {
    "tags": []
   },
   "outputs": [],
   "source": [
    "###############\n",
    "# Gun Type\n",
    "###############\n",
    "import re\n",
    "import math\n",
    "\n",
    "guns_list = []\n",
    "\n",
    "for item in df['gun_type']:\n",
    "\n",
    "    if type(item) == float and math.isnan(item):\n",
    "        continue\n",
    "\n",
    "    gun = re.findall(\"\\d*::\\d* (?P<gun>\\w*)\", item)\n",
    "\n",
    "    if len(gun) == 0:\n",
    "        gun = re.findall(\"\\d*::(?P<gun>\\w*)\", item)\n",
    "\n",
    "    guns_list.extend(gun)\n",
    "\n",
    "# print(guns_list)\n",
    "\n",
    "plt.xticks(rotation=\"vertical\")\n",
    "plt.hist(guns_list)\n",
    "plt.show()"
   ]
  },
  {
   "cell_type": "code",
   "execution_count": null,
   "id": "2646639d",
   "metadata": {},
   "outputs": [],
   "source": [
    "### Create 'zipcode' column based on geographic coordinates"
   ]
  },
  {
   "cell_type": "code",
   "execution_count": null,
   "id": "655db284-2dab-4b97-bcd9-069e28b1633a",
   "metadata": {
    "tags": []
   },
   "outputs": [],
   "source": [
    "!pip install geopy\n",
    "import geopy\n",
    "import pandas as pd\n",
    "\n",
    "geolocator = geopy.Nominatim(user_agent=\"check_1\")\n",
    "\n",
    "def get_zip_code(x):\n",
    "    location = geolocator.reverse(\"{}, {}\".format(x['latitude'],x['longitude']))\n",
    "    return location.raw['address']['postcode']\n",
    "\n",
    "df['zipcode'] = df.head().apply(lambda x: get_zip_code(x), axis = 1)"
   ]
  },
  {
   "cell_type": "code",
   "execution_count": null,
   "id": "c74b51fe-2ee0-4b02-a239-716037876389",
   "metadata": {},
   "outputs": [],
   "source": [
    "### New 'suspect_count' and 'victim_count' columns per incident"
   ]
  },
  {
   "cell_type": "code",
   "execution_count": null,
   "id": "b906183b-7865-451c-8b7b-1e1e2832eb3f",
   "metadata": {},
   "outputs": [],
   "source": [
    "participant_type = df['participant_type']\n",
    "\n",
    "i = 0\n",
    "\n",
    "for parts in participant_type:\n",
    "\n",
    "    suspects = []\n",
    "    victims = []\n",
    "\n",
    "    if '||' in str(parts):\n",
    "        part = str(parts).split('||')\n",
    "        for keyval in part:\n",
    "            if '::' in str(keyval):\n",
    "                part_value = str(keyval).split('::')\n",
    "                if part_value[1] == 'Victim':\n",
    "                    victims.append(part_value[1])\n",
    "                elif part_value[1] == 'Subject-Suspect':\n",
    "                    suspects.append(part_value[1])\n",
    "\n",
    "    df.at[i,'victim_count'] = len(victims)\n",
    "    df.at[i,'suspect_count'] = len(suspects)\n",
    "    i = i + 1"
   ]
  },
  {
   "cell_type": "code",
   "execution_count": null,
   "id": "e3b7918e",
   "metadata": {},
   "outputs": [],
   "source": [
    "### New Suspect Age Group Column"
   ]
  },
  {
   "cell_type": "code",
   "execution_count": null,
   "id": "3f7a9163",
   "metadata": {},
   "outputs": [],
   "source": [
    "import pandas as pd\n",
    "import re\n",
    "import math\n",
    "import matplotlib.pyplot as plt\n",
    "\n",
    "df['suspect_age'] = ''\n",
    "\n",
    "# parse each column into readable form\n",
    "for i, row in df.iterrows():\n",
    "\n",
    "    temp = row['participant_type']\n",
    "    #print(\"participant_type row %s\" % temp)\n",
    "\n",
    "    if isinstance(temp, float):\n",
    "        continue\n",
    "    #match = re.findall('\\d*::\\d*Subject-Suspect', temp)\n",
    "    match = re.findall('\\d*::Subject-Suspect', temp)\n",
    "\n",
    "    if len(match) == 0:\n",
    "        continue\n",
    "    elif 'Subject-Suspect' not in match[0]:\n",
    "        continue\n",
    "\n",
    "\n",
    "    for keyval in match:\n",
    "        if '::' in str(keyval):\n",
    "            #print(\"keyval: %s\" % keyval)\n",
    "            part_value = str(keyval).split('::')\n",
    "            part_index = part_value[0]\n",
    "\n",
    "            temp_age_group = row['participant_age_group']\n",
    "            regex = part_index + '::(.*)'\n",
    "            #print(\"regex: %s\" % regex)\n",
    "            #print(\"temp_age_group: %s\" % temp_age_group)\n",
    "            if not isinstance(temp_age_group, float):\n",
    "                match_age = re.findall(regex, temp_age_group)\n",
    "                #print(\"match_age: %s\" % match_age)\n",
    "                if len(match_age) != 0:\n",
    "                    if '||' in match_age[0]:\n",
    "                        element = match_age[0].split('||')\n",
    "                        if element[0] == '':\n",
    "                            #print(\"empty element: --%s--\" % element[0])\n",
    "                            pass\n",
    "                        df.at[i, 'suspect_age'] = element[0]\n",
    "                    else:\n",
    "                        df.at[i, 'suspect_age'] = match_age[0]\n",
    "                        #print(\"i = %d\" % i)\n",
    "                else:\n",
    "                    continue\n"
   ]
  },
  {
   "cell_type": "code",
   "execution_count": null,
   "id": "14302f20",
   "metadata": {},
   "outputs": [],
   "source": [
    "### New Suspect Age Column"
   ]
  },
  {
   "cell_type": "code",
   "execution_count": null,
   "id": "28b07eae",
   "metadata": {},
   "outputs": [],
   "source": [
    "df['suspect_age_value'] = ''\n",
    "df[['suspect_age_value']] = df[['suspect_age_value']].apply(pd.to_numeric)\n",
    "\n",
    "# parse each column into readable form\n",
    "for i, row in df.iterrows():\n",
    "\n",
    "    temp = row['participant_type']\n",
    "    #print(\"participant_type row %s\" % temp)\n",
    "\n",
    "    if isinstance(temp, float):\n",
    "        continue\n",
    "    #match = re.findall('\\d*::\\d*Subject-Suspect', temp)\n",
    "    match = re.findall('\\d*::Subject-Suspect', temp)\n",
    "\n",
    "    if len(match) == 0:\n",
    "        continue\n",
    "    elif 'Subject-Suspect' not in match[0]:\n",
    "        continue\n",
    "\n",
    "\n",
    "    for keyval in match:\n",
    "        if '::' in str(keyval):\n",
    "            #print(\"keyval: %s\" % keyval)\n",
    "            part_value = str(keyval).split('::')\n",
    "            part_index = part_value[0]\n",
    "\n",
    "            temp_age_group = row['participant_age']\n",
    "            regex = part_index + '::(.*)'\n",
    "            #print(\"regex: %s\" % regex)\n",
    "            #print(\"temp_age_group: %s\" % temp_age_group)\n",
    "            if not isinstance(temp_age_group, float):\n",
    "                match_age = re.findall(regex, temp_age_group)\n",
    "                #print(\"match_age: %s\" % match_age)\n",
    "                if len(match_age) != 0:\n",
    "                    if '||' in match_age[0]:\n",
    "                        element = match_age[0].split('||')\n",
    "                        if element[0] == '':\n",
    "                            pass\n",
    "                            #print(\"empty element: --%s--\" % element[0])\n",
    "                        else:\n",
    "                            df.at[i, 'suspect_age_value'] = int(element[0])\n",
    "                    else:\n",
    "                        if match_age[0] == '':\n",
    "                            #print(\"do nothing\")\n",
    "                            pass\n",
    "                        else:\n",
    "                            df.at[i, 'suspect_age_value'] = int(match_age[0])\n",
    "                        #print(\"i = %d\" % i)\n",
    "                else:\n",
    "                    continue\n",
    "\n"
   ]
  },
  {
   "cell_type": "code",
   "execution_count": null,
   "id": "417e8efc",
   "metadata": {},
   "outputs": [],
   "source": [
    "### Create Suspect Gender Column\n",
    "\n",
    "# 'Gender Unknown' can mean two things:\n",
    "# 1: There was a suspect but the gender was not recorded in the dataset\n",
    "# 2: There was no suspect in the incident"
   ]
  },
  {
   "cell_type": "code",
   "execution_count": null,
   "id": "6432cc97",
   "metadata": {},
   "outputs": [],
   "source": [
    "def has_numbers(inputString):\n",
    "    if inputString != 'Male' and inputString != 'Female':\n",
    "        #print(\"stop here\")\n",
    "        pass\n",
    "\n",
    "    #print(type(inputString))\n",
    "    for char in inputString:\n",
    "        result = char.isdigit()\n",
    "        if(result == True):\n",
    "            return result\n",
    "    #return any(char.isdigit() for char in inputString)\n",
    "    \n",
    "print(\"size of dataframe at start: %d\" % len(df))\n",
    "\n",
    "df['suspect_gender'] = ''\n",
    "df[['suspect_gender']] = df[['suspect_gender']].apply(str)\n",
    "# 0 = male\n",
    "# 1 = female\n",
    "\n",
    "# parse each column into readable form\n",
    "for i, row in df.iterrows():\n",
    "\n",
    "    temp = row['participant_type']\n",
    "    #print(\"participant_gender row %s\" % temp)\n",
    "\n",
    "    if isinstance(temp, float):\n",
    "        continue\n",
    "    #match = re.findall('\\d*::\\d*Subject-Suspect', temp)\n",
    "    match = re.findall('\\d*::Subject-Suspect', temp)\n",
    "\n",
    "    if len(match) == 0:\n",
    "        continue\n",
    "    elif 'Subject-Suspect' not in match[0]:\n",
    "        continue\n",
    "\n",
    "\n",
    "    for keyval in match:\n",
    "        if '::' in str(keyval):\n",
    "            #print(\"keyval: %s\" % keyval)\n",
    "            part_value = str(keyval).split('::')\n",
    "            part_index = part_value[0]\n",
    "\n",
    "            temp_age_group = row['participant_gender']\n",
    "            regex = part_index + '::(.*)'\n",
    "            #print(\"regex: %s\" % regex)\n",
    "            #print(\"temp_age_group: %s\" % temp_age_group)\n",
    "            if not isinstance(temp_age_group, float):\n",
    "                match_age = re.findall(regex, temp_age_group)\n",
    "                #print(\"match_age: %s\" % match_age)\n",
    "                if len(match_age) != 0:\n",
    "                    if '||' in match_age[0]:\n",
    "                        element = match_age[0].split('||')\n",
    "                        if element[0] == '':\n",
    "                            #print(\"empty element: --%s--\" % element[0])\n",
    "                            pass\n",
    "                        else:\n",
    "                            if has_numbers(element[0]):\n",
    "                                df.at[i, 'suspect_gender'] = 'Gender Unknown'\n",
    "                            else:\n",
    "                                df.at[i, 'suspect_gender'] = element[0]\n",
    "                    else:\n",
    "                        if match_age[0] == '':\n",
    "                            #print(\"do nothing\")\n",
    "                            pass\n",
    "                        else:\n",
    "                            if has_numbers(match_age[0]):\n",
    "                                df.at[i, 'suspect_gender'] = 'Gender Unknown'\n",
    "                            else:\n",
    "                                df.at[i, 'suspect_gender'] = match_age[0]\n",
    "                        #print(\"i = %d\" % i)\n",
    "                else:\n",
    "                    continue\n",
    "\n",
    "\n",
    "\n",
    "\n",
    "for i,row in df_temp.iterrows():\n",
    "    result = row['suspect_gender']\n",
    "    if result != 'Female' and result != 'Male':\n",
    "        df_temp.at[i, 'suspect_gender'] = 'Gender Unknown'"
   ]
  },
  {
   "cell_type": "code",
   "execution_count": null,
   "id": "a7150b9b",
   "metadata": {},
   "outputs": [],
   "source": []
  },
  {
   "cell_type": "code",
   "execution_count": null,
   "id": "1932d662",
   "metadata": {},
   "outputs": [],
   "source": []
  }
 ],
 "metadata": {
  "availableInstances": [
   {
    "_defaultOrder": 0,
    "_isFastLaunch": true,
    "category": "General purpose",
    "gpuNum": 0,
    "hideHardwareSpecs": false,
    "memoryGiB": 4,
    "name": "ml.t3.medium",
    "vcpuNum": 2
   },
   {
    "_defaultOrder": 1,
    "_isFastLaunch": false,
    "category": "General purpose",
    "gpuNum": 0,
    "hideHardwareSpecs": false,
    "memoryGiB": 8,
    "name": "ml.t3.large",
    "vcpuNum": 2
   },
   {
    "_defaultOrder": 2,
    "_isFastLaunch": false,
    "category": "General purpose",
    "gpuNum": 0,
    "hideHardwareSpecs": false,
    "memoryGiB": 16,
    "name": "ml.t3.xlarge",
    "vcpuNum": 4
   },
   {
    "_defaultOrder": 3,
    "_isFastLaunch": false,
    "category": "General purpose",
    "gpuNum": 0,
    "hideHardwareSpecs": false,
    "memoryGiB": 32,
    "name": "ml.t3.2xlarge",
    "vcpuNum": 8
   },
   {
    "_defaultOrder": 4,
    "_isFastLaunch": true,
    "category": "General purpose",
    "gpuNum": 0,
    "hideHardwareSpecs": false,
    "memoryGiB": 8,
    "name": "ml.m5.large",
    "vcpuNum": 2
   },
   {
    "_defaultOrder": 5,
    "_isFastLaunch": false,
    "category": "General purpose",
    "gpuNum": 0,
    "hideHardwareSpecs": false,
    "memoryGiB": 16,
    "name": "ml.m5.xlarge",
    "vcpuNum": 4
   },
   {
    "_defaultOrder": 6,
    "_isFastLaunch": false,
    "category": "General purpose",
    "gpuNum": 0,
    "hideHardwareSpecs": false,
    "memoryGiB": 32,
    "name": "ml.m5.2xlarge",
    "vcpuNum": 8
   },
   {
    "_defaultOrder": 7,
    "_isFastLaunch": false,
    "category": "General purpose",
    "gpuNum": 0,
    "hideHardwareSpecs": false,
    "memoryGiB": 64,
    "name": "ml.m5.4xlarge",
    "vcpuNum": 16
   },
   {
    "_defaultOrder": 8,
    "_isFastLaunch": false,
    "category": "General purpose",
    "gpuNum": 0,
    "hideHardwareSpecs": false,
    "memoryGiB": 128,
    "name": "ml.m5.8xlarge",
    "vcpuNum": 32
   },
   {
    "_defaultOrder": 9,
    "_isFastLaunch": false,
    "category": "General purpose",
    "gpuNum": 0,
    "hideHardwareSpecs": false,
    "memoryGiB": 192,
    "name": "ml.m5.12xlarge",
    "vcpuNum": 48
   },
   {
    "_defaultOrder": 10,
    "_isFastLaunch": false,
    "category": "General purpose",
    "gpuNum": 0,
    "hideHardwareSpecs": false,
    "memoryGiB": 256,
    "name": "ml.m5.16xlarge",
    "vcpuNum": 64
   },
   {
    "_defaultOrder": 11,
    "_isFastLaunch": false,
    "category": "General purpose",
    "gpuNum": 0,
    "hideHardwareSpecs": false,
    "memoryGiB": 384,
    "name": "ml.m5.24xlarge",
    "vcpuNum": 96
   },
   {
    "_defaultOrder": 12,
    "_isFastLaunch": false,
    "category": "General purpose",
    "gpuNum": 0,
    "hideHardwareSpecs": false,
    "memoryGiB": 8,
    "name": "ml.m5d.large",
    "vcpuNum": 2
   },
   {
    "_defaultOrder": 13,
    "_isFastLaunch": false,
    "category": "General purpose",
    "gpuNum": 0,
    "hideHardwareSpecs": false,
    "memoryGiB": 16,
    "name": "ml.m5d.xlarge",
    "vcpuNum": 4
   },
   {
    "_defaultOrder": 14,
    "_isFastLaunch": false,
    "category": "General purpose",
    "gpuNum": 0,
    "hideHardwareSpecs": false,
    "memoryGiB": 32,
    "name": "ml.m5d.2xlarge",
    "vcpuNum": 8
   },
   {
    "_defaultOrder": 15,
    "_isFastLaunch": false,
    "category": "General purpose",
    "gpuNum": 0,
    "hideHardwareSpecs": false,
    "memoryGiB": 64,
    "name": "ml.m5d.4xlarge",
    "vcpuNum": 16
   },
   {
    "_defaultOrder": 16,
    "_isFastLaunch": false,
    "category": "General purpose",
    "gpuNum": 0,
    "hideHardwareSpecs": false,
    "memoryGiB": 128,
    "name": "ml.m5d.8xlarge",
    "vcpuNum": 32
   },
   {
    "_defaultOrder": 17,
    "_isFastLaunch": false,
    "category": "General purpose",
    "gpuNum": 0,
    "hideHardwareSpecs": false,
    "memoryGiB": 192,
    "name": "ml.m5d.12xlarge",
    "vcpuNum": 48
   },
   {
    "_defaultOrder": 18,
    "_isFastLaunch": false,
    "category": "General purpose",
    "gpuNum": 0,
    "hideHardwareSpecs": false,
    "memoryGiB": 256,
    "name": "ml.m5d.16xlarge",
    "vcpuNum": 64
   },
   {
    "_defaultOrder": 19,
    "_isFastLaunch": false,
    "category": "General purpose",
    "gpuNum": 0,
    "hideHardwareSpecs": false,
    "memoryGiB": 384,
    "name": "ml.m5d.24xlarge",
    "vcpuNum": 96
   },
   {
    "_defaultOrder": 20,
    "_isFastLaunch": false,
    "category": "General purpose",
    "gpuNum": 0,
    "hideHardwareSpecs": true,
    "memoryGiB": 0,
    "name": "ml.geospatial.interactive",
    "supportedImageNames": [
     "sagemaker-geospatial-v1-0"
    ],
    "vcpuNum": 0
   },
   {
    "_defaultOrder": 21,
    "_isFastLaunch": true,
    "category": "Compute optimized",
    "gpuNum": 0,
    "hideHardwareSpecs": false,
    "memoryGiB": 4,
    "name": "ml.c5.large",
    "vcpuNum": 2
   },
   {
    "_defaultOrder": 22,
    "_isFastLaunch": false,
    "category": "Compute optimized",
    "gpuNum": 0,
    "hideHardwareSpecs": false,
    "memoryGiB": 8,
    "name": "ml.c5.xlarge",
    "vcpuNum": 4
   },
   {
    "_defaultOrder": 23,
    "_isFastLaunch": false,
    "category": "Compute optimized",
    "gpuNum": 0,
    "hideHardwareSpecs": false,
    "memoryGiB": 16,
    "name": "ml.c5.2xlarge",
    "vcpuNum": 8
   },
   {
    "_defaultOrder": 24,
    "_isFastLaunch": false,
    "category": "Compute optimized",
    "gpuNum": 0,
    "hideHardwareSpecs": false,
    "memoryGiB": 32,
    "name": "ml.c5.4xlarge",
    "vcpuNum": 16
   },
   {
    "_defaultOrder": 25,
    "_isFastLaunch": false,
    "category": "Compute optimized",
    "gpuNum": 0,
    "hideHardwareSpecs": false,
    "memoryGiB": 72,
    "name": "ml.c5.9xlarge",
    "vcpuNum": 36
   },
   {
    "_defaultOrder": 26,
    "_isFastLaunch": false,
    "category": "Compute optimized",
    "gpuNum": 0,
    "hideHardwareSpecs": false,
    "memoryGiB": 96,
    "name": "ml.c5.12xlarge",
    "vcpuNum": 48
   },
   {
    "_defaultOrder": 27,
    "_isFastLaunch": false,
    "category": "Compute optimized",
    "gpuNum": 0,
    "hideHardwareSpecs": false,
    "memoryGiB": 144,
    "name": "ml.c5.18xlarge",
    "vcpuNum": 72
   },
   {
    "_defaultOrder": 28,
    "_isFastLaunch": false,
    "category": "Compute optimized",
    "gpuNum": 0,
    "hideHardwareSpecs": false,
    "memoryGiB": 192,
    "name": "ml.c5.24xlarge",
    "vcpuNum": 96
   },
   {
    "_defaultOrder": 29,
    "_isFastLaunch": true,
    "category": "Accelerated computing",
    "gpuNum": 1,
    "hideHardwareSpecs": false,
    "memoryGiB": 16,
    "name": "ml.g4dn.xlarge",
    "vcpuNum": 4
   },
   {
    "_defaultOrder": 30,
    "_isFastLaunch": false,
    "category": "Accelerated computing",
    "gpuNum": 1,
    "hideHardwareSpecs": false,
    "memoryGiB": 32,
    "name": "ml.g4dn.2xlarge",
    "vcpuNum": 8
   },
   {
    "_defaultOrder": 31,
    "_isFastLaunch": false,
    "category": "Accelerated computing",
    "gpuNum": 1,
    "hideHardwareSpecs": false,
    "memoryGiB": 64,
    "name": "ml.g4dn.4xlarge",
    "vcpuNum": 16
   },
   {
    "_defaultOrder": 32,
    "_isFastLaunch": false,
    "category": "Accelerated computing",
    "gpuNum": 1,
    "hideHardwareSpecs": false,
    "memoryGiB": 128,
    "name": "ml.g4dn.8xlarge",
    "vcpuNum": 32
   },
   {
    "_defaultOrder": 33,
    "_isFastLaunch": false,
    "category": "Accelerated computing",
    "gpuNum": 4,
    "hideHardwareSpecs": false,
    "memoryGiB": 192,
    "name": "ml.g4dn.12xlarge",
    "vcpuNum": 48
   },
   {
    "_defaultOrder": 34,
    "_isFastLaunch": false,
    "category": "Accelerated computing",
    "gpuNum": 1,
    "hideHardwareSpecs": false,
    "memoryGiB": 256,
    "name": "ml.g4dn.16xlarge",
    "vcpuNum": 64
   },
   {
    "_defaultOrder": 35,
    "_isFastLaunch": false,
    "category": "Accelerated computing",
    "gpuNum": 1,
    "hideHardwareSpecs": false,
    "memoryGiB": 61,
    "name": "ml.p3.2xlarge",
    "vcpuNum": 8
   },
   {
    "_defaultOrder": 36,
    "_isFastLaunch": false,
    "category": "Accelerated computing",
    "gpuNum": 4,
    "hideHardwareSpecs": false,
    "memoryGiB": 244,
    "name": "ml.p3.8xlarge",
    "vcpuNum": 32
   },
   {
    "_defaultOrder": 37,
    "_isFastLaunch": false,
    "category": "Accelerated computing",
    "gpuNum": 8,
    "hideHardwareSpecs": false,
    "memoryGiB": 488,
    "name": "ml.p3.16xlarge",
    "vcpuNum": 64
   },
   {
    "_defaultOrder": 38,
    "_isFastLaunch": false,
    "category": "Accelerated computing",
    "gpuNum": 8,
    "hideHardwareSpecs": false,
    "memoryGiB": 768,
    "name": "ml.p3dn.24xlarge",
    "vcpuNum": 96
   },
   {
    "_defaultOrder": 39,
    "_isFastLaunch": false,
    "category": "Memory Optimized",
    "gpuNum": 0,
    "hideHardwareSpecs": false,
    "memoryGiB": 16,
    "name": "ml.r5.large",
    "vcpuNum": 2
   },
   {
    "_defaultOrder": 40,
    "_isFastLaunch": false,
    "category": "Memory Optimized",
    "gpuNum": 0,
    "hideHardwareSpecs": false,
    "memoryGiB": 32,
    "name": "ml.r5.xlarge",
    "vcpuNum": 4
   },
   {
    "_defaultOrder": 41,
    "_isFastLaunch": false,
    "category": "Memory Optimized",
    "gpuNum": 0,
    "hideHardwareSpecs": false,
    "memoryGiB": 64,
    "name": "ml.r5.2xlarge",
    "vcpuNum": 8
   },
   {
    "_defaultOrder": 42,
    "_isFastLaunch": false,
    "category": "Memory Optimized",
    "gpuNum": 0,
    "hideHardwareSpecs": false,
    "memoryGiB": 128,
    "name": "ml.r5.4xlarge",
    "vcpuNum": 16
   },
   {
    "_defaultOrder": 43,
    "_isFastLaunch": false,
    "category": "Memory Optimized",
    "gpuNum": 0,
    "hideHardwareSpecs": false,
    "memoryGiB": 256,
    "name": "ml.r5.8xlarge",
    "vcpuNum": 32
   },
   {
    "_defaultOrder": 44,
    "_isFastLaunch": false,
    "category": "Memory Optimized",
    "gpuNum": 0,
    "hideHardwareSpecs": false,
    "memoryGiB": 384,
    "name": "ml.r5.12xlarge",
    "vcpuNum": 48
   },
   {
    "_defaultOrder": 45,
    "_isFastLaunch": false,
    "category": "Memory Optimized",
    "gpuNum": 0,
    "hideHardwareSpecs": false,
    "memoryGiB": 512,
    "name": "ml.r5.16xlarge",
    "vcpuNum": 64
   },
   {
    "_defaultOrder": 46,
    "_isFastLaunch": false,
    "category": "Memory Optimized",
    "gpuNum": 0,
    "hideHardwareSpecs": false,
    "memoryGiB": 768,
    "name": "ml.r5.24xlarge",
    "vcpuNum": 96
   },
   {
    "_defaultOrder": 47,
    "_isFastLaunch": false,
    "category": "Accelerated computing",
    "gpuNum": 1,
    "hideHardwareSpecs": false,
    "memoryGiB": 16,
    "name": "ml.g5.xlarge",
    "vcpuNum": 4
   },
   {
    "_defaultOrder": 48,
    "_isFastLaunch": false,
    "category": "Accelerated computing",
    "gpuNum": 1,
    "hideHardwareSpecs": false,
    "memoryGiB": 32,
    "name": "ml.g5.2xlarge",
    "vcpuNum": 8
   },
   {
    "_defaultOrder": 49,
    "_isFastLaunch": false,
    "category": "Accelerated computing",
    "gpuNum": 1,
    "hideHardwareSpecs": false,
    "memoryGiB": 64,
    "name": "ml.g5.4xlarge",
    "vcpuNum": 16
   },
   {
    "_defaultOrder": 50,
    "_isFastLaunch": false,
    "category": "Accelerated computing",
    "gpuNum": 1,
    "hideHardwareSpecs": false,
    "memoryGiB": 128,
    "name": "ml.g5.8xlarge",
    "vcpuNum": 32
   },
   {
    "_defaultOrder": 51,
    "_isFastLaunch": false,
    "category": "Accelerated computing",
    "gpuNum": 1,
    "hideHardwareSpecs": false,
    "memoryGiB": 256,
    "name": "ml.g5.16xlarge",
    "vcpuNum": 64
   },
   {
    "_defaultOrder": 52,
    "_isFastLaunch": false,
    "category": "Accelerated computing",
    "gpuNum": 4,
    "hideHardwareSpecs": false,
    "memoryGiB": 192,
    "name": "ml.g5.12xlarge",
    "vcpuNum": 48
   },
   {
    "_defaultOrder": 53,
    "_isFastLaunch": false,
    "category": "Accelerated computing",
    "gpuNum": 4,
    "hideHardwareSpecs": false,
    "memoryGiB": 384,
    "name": "ml.g5.24xlarge",
    "vcpuNum": 96
   },
   {
    "_defaultOrder": 54,
    "_isFastLaunch": false,
    "category": "Accelerated computing",
    "gpuNum": 8,
    "hideHardwareSpecs": false,
    "memoryGiB": 768,
    "name": "ml.g5.48xlarge",
    "vcpuNum": 192
   }
  ],
  "instance_type": "ml.t3.medium",
  "kernelspec": {
   "display_name": "Python 3 (ipykernel)",
   "language": "python",
   "name": "python3"
  },
  "language_info": {
   "codemirror_mode": {
    "name": "ipython",
    "version": 3
   },
   "file_extension": ".py",
   "mimetype": "text/x-python",
   "name": "python",
   "nbconvert_exporter": "python",
   "pygments_lexer": "ipython3",
   "version": "3.7.11"
  }
 },
 "nbformat": 4,
 "nbformat_minor": 5
}
