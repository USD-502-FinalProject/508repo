{
 "cells": [
  {
   "cell_type": "markdown",
   "id": "544b6a22-7da0-4d75-a74c-1b6dfd6ba5a0",
   "metadata": {},
   "source": [
    "# Set up \n",
    "\n",
    "## Check Environment "
   ]
  },
  {
   "cell_type": "code",
   "execution_count": 82,
   "id": "b4ae9065-6964-4078-971d-819cb3123697",
   "metadata": {
    "tags": []
   },
   "outputs": [],
   "source": [
    "import boto3\n",
    "\n",
    "region = boto3.Session().region_name\n",
    "session = boto3.session.Session()\n",
    "\n",
    "ec2 = boto3.Session().client(service_name=\"ec2\", region_name=region)\n",
    "sm = boto3.Session().client(service_name=\"sagemaker\", region_name=region)"
   ]
  },
  {
   "cell_type": "markdown",
   "id": "f2679010-3b8e-4843-8118-63eaf45bb0bd",
   "metadata": {},
   "source": [
    "## Update IAM Roles and Policies"
   ]
  },
  {
   "cell_type": "code",
   "execution_count": 83,
   "id": "7a5705df-9505-4f0f-a2d4-fd9244caa68d",
   "metadata": {
    "tags": []
   },
   "outputs": [],
   "source": [
    "import sagemaker\n",
    "import time\n",
    "from time import gmtime, strftime\n",
    "\n",
    "sagemaker_session = sagemaker.Session()\n",
    "role = sagemaker.get_execution_role()\n",
    "bucket = sagemaker_session.default_bucket()\n",
    "region = boto3.Session().region_name\n",
    "\n",
    "from botocore.config import Config\n",
    "\n",
    "config = Config(retries={\"max_attempts\": 10, \"mode\": \"adaptive\"})\n",
    "\n",
    "iam = boto3.client(\"iam\", config=config)"
   ]
  },
  {
   "cell_type": "code",
   "execution_count": 84,
   "id": "dfc59837-b3bc-4335-bf7e-80b9d866bcfd",
   "metadata": {
    "tags": []
   },
   "outputs": [
    {
     "name": "stdout",
     "output_type": "stream",
     "text": [
      "Role name: LabRole\n"
     ]
    }
   ],
   "source": [
    "role_name = role.split(\"/\")[-1]\n",
    "\n",
    "print(\"Role name: {}\".format(role_name))"
   ]
  },
  {
   "cell_type": "markdown",
   "id": "bfbe1100-813c-43f5-ad87-3f43471a5f4b",
   "metadata": {},
   "source": [
    "## Import Libraries"
   ]
  },
  {
   "cell_type": "code",
   "execution_count": 85,
   "id": "1fbe1a06-146a-4836-93fb-4230808a40a5",
   "metadata": {
    "tags": []
   },
   "outputs": [
    {
     "name": "stdout",
     "output_type": "stream",
     "text": [
      "Requirement already satisfied: descartes in /opt/conda/lib/python3.7/site-packages (1.1.0)\n",
      "Requirement already satisfied: matplotlib in /opt/conda/lib/python3.7/site-packages (from descartes) (3.1.3)\n",
      "Requirement already satisfied: cycler>=0.10 in /opt/conda/lib/python3.7/site-packages (from matplotlib->descartes) (0.10.0)\n",
      "Requirement already satisfied: kiwisolver>=1.0.1 in /opt/conda/lib/python3.7/site-packages (from matplotlib->descartes) (1.1.0)\n",
      "Requirement already satisfied: numpy>=1.11 in /opt/conda/lib/python3.7/site-packages (from matplotlib->descartes) (1.21.6)\n",
      "Requirement already satisfied: python-dateutil>=2.1 in /opt/conda/lib/python3.7/site-packages (from matplotlib->descartes) (2.8.2)\n",
      "Requirement already satisfied: pyparsing!=2.0.4,!=2.1.2,!=2.1.6,>=2.0.1 in /opt/conda/lib/python3.7/site-packages (from matplotlib->descartes) (2.4.6)\n",
      "Requirement already satisfied: six in /opt/conda/lib/python3.7/site-packages (from cycler>=0.10->matplotlib->descartes) (1.14.0)\n",
      "Requirement already satisfied: setuptools in /opt/conda/lib/python3.7/site-packages (from kiwisolver>=1.0.1->matplotlib->descartes) (59.3.0)\n",
      "\u001b[33mWARNING: Running pip as the 'root' user can result in broken permissions and conflicting behaviour with the system package manager. It is recommended to use a virtual environment instead: https://pip.pypa.io/warnings/venv\u001b[0m\u001b[33m\n",
      "\u001b[0mRequirement already satisfied: geopandas in /opt/conda/lib/python3.7/site-packages (0.10.2)\n",
      "Requirement already satisfied: fiona>=1.8 in /opt/conda/lib/python3.7/site-packages (from geopandas) (1.9.2)\n",
      "Requirement already satisfied: pyproj>=2.2.0 in /opt/conda/lib/python3.7/site-packages (from geopandas) (3.2.1)\n",
      "Requirement already satisfied: shapely>=1.6 in /opt/conda/lib/python3.7/site-packages (from geopandas) (2.0.1)\n",
      "Requirement already satisfied: pandas>=0.25.0 in /opt/conda/lib/python3.7/site-packages (from geopandas) (1.3.5)\n",
      "Requirement already satisfied: cligj>=0.5 in /opt/conda/lib/python3.7/site-packages (from fiona>=1.8->geopandas) (0.7.2)\n",
      "Requirement already satisfied: click~=8.0 in /opt/conda/lib/python3.7/site-packages (from fiona>=1.8->geopandas) (8.1.3)\n",
      "Requirement already satisfied: click-plugins>=1.0 in /opt/conda/lib/python3.7/site-packages (from fiona>=1.8->geopandas) (1.1.1)\n",
      "Requirement already satisfied: munch>=2.3.2 in /opt/conda/lib/python3.7/site-packages (from fiona>=1.8->geopandas) (2.5.0)\n",
      "Requirement already satisfied: importlib-metadata in /opt/conda/lib/python3.7/site-packages (from fiona>=1.8->geopandas) (6.1.0)\n",
      "Requirement already satisfied: attrs>=19.2.0 in /opt/conda/lib/python3.7/site-packages (from fiona>=1.8->geopandas) (22.2.0)\n",
      "Requirement already satisfied: certifi in /opt/conda/lib/python3.7/site-packages (from fiona>=1.8->geopandas) (2022.12.7)\n",
      "Requirement already satisfied: python-dateutil>=2.7.3 in /opt/conda/lib/python3.7/site-packages (from pandas>=0.25.0->geopandas) (2.8.2)\n",
      "Requirement already satisfied: pytz>=2017.3 in /opt/conda/lib/python3.7/site-packages (from pandas>=0.25.0->geopandas) (2019.3)\n",
      "Requirement already satisfied: numpy>=1.17.3 in /opt/conda/lib/python3.7/site-packages (from pandas>=0.25.0->geopandas) (1.21.6)\n",
      "Requirement already satisfied: six in /opt/conda/lib/python3.7/site-packages (from munch>=2.3.2->fiona>=1.8->geopandas) (1.14.0)\n",
      "Requirement already satisfied: typing-extensions>=3.6.4 in /opt/conda/lib/python3.7/site-packages (from importlib-metadata->fiona>=1.8->geopandas) (4.5.0)\n",
      "Requirement already satisfied: zipp>=0.5 in /opt/conda/lib/python3.7/site-packages (from importlib-metadata->fiona>=1.8->geopandas) (3.15.0)\n",
      "\u001b[33mWARNING: Running pip as the 'root' user can result in broken permissions and conflicting behaviour with the system package manager. It is recommended to use a virtual environment instead: https://pip.pypa.io/warnings/venv\u001b[0m\u001b[33m\n",
      "\u001b[0mRequirement already satisfied: wordcloud in /opt/conda/lib/python3.7/site-packages (1.8.2.2)\n",
      "Requirement already satisfied: matplotlib in /opt/conda/lib/python3.7/site-packages (from wordcloud) (3.1.3)\n",
      "Requirement already satisfied: pillow in /opt/conda/lib/python3.7/site-packages (from wordcloud) (9.5.0)\n",
      "Requirement already satisfied: numpy>=1.6.1 in /opt/conda/lib/python3.7/site-packages (from wordcloud) (1.21.6)\n",
      "Requirement already satisfied: cycler>=0.10 in /opt/conda/lib/python3.7/site-packages (from matplotlib->wordcloud) (0.10.0)\n",
      "Requirement already satisfied: python-dateutil>=2.1 in /opt/conda/lib/python3.7/site-packages (from matplotlib->wordcloud) (2.8.2)\n",
      "Requirement already satisfied: pyparsing!=2.0.4,!=2.1.2,!=2.1.6,>=2.0.1 in /opt/conda/lib/python3.7/site-packages (from matplotlib->wordcloud) (2.4.6)\n",
      "Requirement already satisfied: kiwisolver>=1.0.1 in /opt/conda/lib/python3.7/site-packages (from matplotlib->wordcloud) (1.1.0)\n",
      "Requirement already satisfied: six in /opt/conda/lib/python3.7/site-packages (from cycler>=0.10->matplotlib->wordcloud) (1.14.0)\n",
      "Requirement already satisfied: setuptools in /opt/conda/lib/python3.7/site-packages (from kiwisolver>=1.0.1->matplotlib->wordcloud) (59.3.0)\n",
      "\u001b[33mWARNING: Running pip as the 'root' user can result in broken permissions and conflicting behaviour with the system package manager. It is recommended to use a virtual environment instead: https://pip.pypa.io/warnings/venv\u001b[0m\u001b[33m\n",
      "\u001b[0m"
     ]
    }
   ],
   "source": [
    "import pandas as pd\n",
    "import numpy as np\n",
    "import matplotlib.pyplot as plt\n",
    "! pip install descartes\n",
    "! pip install geopandas\n",
    "!pip install wordcloud\n",
    "import geopandas as gpd\n",
    "from tqdm import tqdm  \n",
    "from geopandas import GeoDataFrame, points_from_xy\n",
    "from wordcloud import WordCloud"
   ]
  },
  {
   "cell_type": "code",
   "execution_count": 86,
   "id": "6dd9165a-6bb7-467a-ace0-fd0d22bf1ea7",
   "metadata": {
    "tags": []
   },
   "outputs": [],
   "source": [
    "s3_public_path = \"s3://sagemaker-studio-458903497716-h2kl4ff3dz/data\"\n",
    "s3_public_path_1=\"s3://sagemaker-studio-458903497716-h2kl4ff3dz/census_2010_data\"\n",
    "s3_public_path_2=\"s3://sagemaker-studio-458903497716-h2kl4ff3dz/state_abbrev_data\"\n",
    "s3_public_path_3=\"s3://sagemaker-studio-458903497716-h2kl4ff3dz/congress_data\"\n",
    "s3_public_path_4=\"s3://sagemaker-studio-458903497716-h2kl4ff3dz/state_income_data\"\n",
    "s3_public_path_5=\"s3://sagemaker-studio-458903497716-h2kl4ff3dz/cities_data\"\n",
    "s3_public_path_6=\"s3://sagemaker-studio-458903497716-h2kl4ff3dz/zipcodes\"\n",
    "s3_public_path_7=\"s3://sagemaker-studio-458903497716-h2kl4ff3dz/adjusted_gross_incomes\"\n",
    "s3_public_path_7=\"s3://sagemaker-studio-458903497716-h2kl4ff3dz/temp\""
   ]
  },
  {
   "cell_type": "code",
   "execution_count": 87,
   "id": "2513e31f-b8b4-45dd-8863-9440f786811c",
   "metadata": {
    "tags": []
   },
   "outputs": [
    {
     "name": "stdout",
     "output_type": "stream",
     "text": [
      "Stored 's3_public_path' (str)\n",
      "Stored 's3_public_path_1' (str)\n",
      "Stored 's3_public_path_2' (str)\n",
      "Stored 's3_public_path_3' (str)\n",
      "Stored 's3_public_path_4' (str)\n",
      "Stored 's3_public_path_5' (str)\n",
      "Stored 's3_public_path_6' (str)\n",
      "Stored 's3_public_path_7' (str)\n"
     ]
    },
    {
     "name": "stderr",
     "output_type": "stream",
     "text": [
      "UsageError: Unknown variable 's3_public_path_8'\n"
     ]
    }
   ],
   "source": [
    "%store s3_public_path\n",
    "%store s3_public_path_1\n",
    "%store s3_public_path_2\n",
    "%store s3_public_path_3\n",
    "%store s3_public_path_4\n",
    "%store s3_public_path_5\n",
    "%store s3_public_path_6\n",
    "%store s3_public_path_7\n",
    "%store s3_public_path_8"
   ]
  },
  {
   "cell_type": "code",
   "execution_count": null,
   "id": "b86852f1-3e52-4377-a42d-cc90da590804",
   "metadata": {
    "tags": []
   },
   "outputs": [],
   "source": [
    "s3_private_path = \"s3://{}/gun_violence_data\".format(bucket)\n",
    "s3_private_path_1 = \"s3://{}/census2010_data\".format(bucket)\n",
    "s3_private_path_2 = \"s3://{}/state_abbrev_data\".format(bucket)\n",
    "s3_private_path_3= \"s3://{}/congress_data\".format(bucket)\n",
    "s3_private_path_4= \"s3://{}/state_income_data\".format(bucket)\n",
    "s3_private_path_5= \"s3://{}/cities_data\".format(bucket)\n",
    "s3_private_path_6= \"s3://{}/zipcodes\".format(bucket)\n",
    "s3_private_path_7= \"s3://{}/adjusted_gross_incomes\".format(bucket)\n",
    "s3_private_path_8= \"s3://{}/temp\".format(bucket)\n",
    "\n",
    "print(s3_private_path)\n",
    "print(s3_private_path_1)\n",
    "print(s3_private_path_2)\n",
    "print(s3_private_path_3)\n",
    "print(s3_private_path_4)\n",
    "print(s3_private_path_5)\n",
    "print(s3_private_path_6)\n",
    "print(s3_private_path_7)\n",
    "print(s3_private_path_8)"
   ]
  },
  {
   "cell_type": "code",
   "execution_count": null,
   "id": "af9c6e3d-401c-4bea-b393-ebe8c7fe280c",
   "metadata": {
    "tags": []
   },
   "outputs": [],
   "source": [
    "%store s3_private_path\n",
    "%store s3_private_path_1\n",
    "%store s3_private_path_2\n",
    "%store s3_private_path_3\n",
    "%store s3_private_path_4\n",
    "%store s3_private_path_5\n",
    "%store s3_private_path_6\n",
    "%store s3_private_path_7\n",
    "%store s3_private_path_8"
   ]
  },
  {
   "cell_type": "code",
   "execution_count": null,
   "id": "9a7ffc10-6456-4acb-bbf0-4d23072cb4fd",
   "metadata": {
    "tags": []
   },
   "outputs": [],
   "source": [
    "!aws s3 cp --recursive $s3_public_path/ $s3_private_path/ --include \"*\" \n",
    "!aws s3 cp --recursive $s3_public_path_1/ $s3_private_path_1/ --include \"*\"\n",
    "!aws s3 cp --recursive $s3_public_path_2/ $s3_private_path_2/ --include \"*\" \n",
    "!aws s3 cp --recursive $s3_public_path_3/ $s3_private_path_3/ --include \"*\" --acl bucket-owner-full-control\n",
    "!aws s3 cp --recursive $s3_public_path_4/ $s3_private_path_4/ --include \"*\" \n",
    "!aws s3 cp --recursive $s3_public_path_5/ $s3_private_path_5/ --include \"*\" \n",
    "!aws s3 cp --recursive $s3_public_path_6/ $s3_private_path_6/ --include \"*\" \n",
    "!aws s3 cp --recursive $s3_public_path_7/ $s3_private_path_7/ --include \"*\" \n",
    "!aws s3 cp --recursive $s3_public_path_8/ $s3_private_path_8/ --include \"*\" "
   ]
  },
  {
   "cell_type": "markdown",
   "id": "1978a323-fe9e-4c5c-b448-fb42a6f47c0a",
   "metadata": {},
   "source": [
    "# Create Database Schema in Athena"
   ]
  },
  {
   "cell_type": "code",
   "execution_count": null,
   "id": "fbfdde23-e09d-482d-93be-b7361eff135c",
   "metadata": {
    "tags": []
   },
   "outputs": [],
   "source": [
    "import boto3\n",
    "import sagemaker\n",
    "\n",
    "sess = sagemaker.Session()\n",
    "#bucket = '{}/gunData'.format(bucket)\n",
    "bucket = '{}'.format(bucket)\n",
    "role = sagemaker.get_execution_role()\n",
    "region = boto3.Session().region_name\n",
    "bucket"
   ]
  },
  {
   "cell_type": "code",
   "execution_count": null,
   "id": "8042c816-1eac-4ff3-b5a9-30a781887cd6",
   "metadata": {
    "tags": []
   },
   "outputs": [],
   "source": [
    "!pip install --disable-pip-version-check -q PyAthena==2.1.0\n",
    "from pyathena import connect"
   ]
  },
  {
   "cell_type": "code",
   "execution_count": null,
   "id": "f9a285fe-a778-4e37-a27f-c87ddc30237e",
   "metadata": {
    "tags": []
   },
   "outputs": [],
   "source": [
    "#assign database name\n",
    "database_name = \"ads508\""
   ]
  },
  {
   "cell_type": "code",
   "execution_count": null,
   "id": "5a8cd20c-a4d5-4e19-8494-5325227171a3",
   "metadata": {
    "tags": []
   },
   "outputs": [],
   "source": [
    "# Set S3 staging directory -- this is a temporary directory used for Athena queries\n",
    "s3_staging_dir = \"s3://{0}/athena/staging\".format(bucket)"
   ]
  },
  {
   "cell_type": "code",
   "execution_count": null,
   "id": "c0172f60-9813-4944-b1b6-c1a6f9309a79",
   "metadata": {
    "tags": []
   },
   "outputs": [],
   "source": [
    "conn = connect(region_name=region, s3_staging_dir=s3_staging_dir)"
   ]
  },
  {
   "cell_type": "code",
   "execution_count": null,
   "id": "57d73501-30f2-4995-8c4a-fbf0e6e27d2a",
   "metadata": {
    "tags": []
   },
   "outputs": [],
   "source": [
    "#create new database 'ads508'\n",
    "statement = \"CREATE DATABASE IF NOT EXISTS {}\".format(database_name)\n",
    "create_db = pd.read_sql(statement, conn)\n",
    "create_db"
   ]
  },
  {
   "cell_type": "code",
   "execution_count": null,
   "id": "05142a70-27d6-4788-817b-3dd82d10743f",
   "metadata": {
    "tags": []
   },
   "outputs": [],
   "source": [
    "#verify database creation\n",
    "q = \"SHOW DATABASES\"\n",
    "db_show = pd.read_sql(q, conn)\n",
    "db_show"
   ]
  },
  {
   "cell_type": "markdown",
   "id": "e4d154cc-0e38-46b3-9560-23c211acdeff",
   "metadata": {},
   "source": [
    "## Create Athena Tables"
   ]
  },
  {
   "cell_type": "code",
   "execution_count": null,
   "id": "655c904c-62c9-401f-96d5-c8feacae6e76",
   "metadata": {
    "tags": []
   },
   "outputs": [],
   "source": [
    "# Set Athena parameters\n",
    "database_name = \"ads508\"\n",
    "table_name_csv = \"gun_violence\"\n",
    "s3_path = \"s3://{}/gun_violence_data\".format(bucket)\n",
    "print(s3_path)"
   ]
  },
  {
   "cell_type": "code",
   "execution_count": null,
   "id": "9809b4c6-fa1a-4d24-b567-f301287efa6a",
   "metadata": {
    "tags": []
   },
   "outputs": [],
   "source": [
    "# SQL statement to execute\n",
    "statement = \"\"\"CREATE EXTERNAL TABLE IF NOT EXISTS {}.{}(\n",
    "         incident_id int,\n",
    "         date date,\n",
    "         state string,\n",
    "         city_or_county string,\n",
    "         address string,\n",
    "         n_killed int,\n",
    "         n_injured int,\n",
    "         incident_url string,\n",
    "         source_url string,\n",
    "         incident_url_fields_missing string,\n",
    "         congressional_district int,\n",
    "         gun_stolen string,\n",
    "         gun_type string,\n",
    "         incident_characteristics string,\n",
    "         latitude int,\n",
    "         location_description string,\n",
    "         longitude int,\n",
    "         n_guns_involved int,\n",
    "         notes string,\n",
    "         participant_age string,\n",
    "         participant_age_group string,\n",
    "         participant_gender string,\n",
    "         participant_name string,\n",
    "         participant_relationship string,\n",
    "         participant_status string,\n",
    "         participant_type string,\n",
    "         sources string,\n",
    "         state_house_district int,\n",
    "         state_senate_district int\n",
    ") ROW FORMAT DELIMITED FIELDS TERMINATED BY ',' LINES TERMINATED BY '\\\\n' LOCATION '{}'\n",
    "TBLPROPERTIES ('skip.header.line.count'='1')\"\"\".format(\n",
    "    database_name, table_name_csv, s3_path\n",
    ")\n",
    "\n",
    "create_table = pd.read_sql(statement, conn)\n",
    "create_table"
   ]
  },
  {
   "cell_type": "code",
   "execution_count": null,
   "id": "3b3fc3e4-6a35-4d89-827c-dd9f80d2c345",
   "metadata": {
    "tags": []
   },
   "outputs": [],
   "source": [
    "table_name_csv_1 = \"est2018\"\n",
    "s3_path_1 = \"s3://{}/census2010_data\".format(bucket)\n",
    "print(s3_path_1)"
   ]
  },
  {
   "cell_type": "code",
   "execution_count": null,
   "id": "04594e67-5635-42de-88bf-bfd3b14d5d19",
   "metadata": {
    "tags": []
   },
   "outputs": [],
   "source": [
    "# SQL statement to execute\n",
    "\n",
    "statement = \"\"\"CREATE EXTERNAL TABLE IF NOT EXISTS {}.{}(\n",
    "    sumlev int,\n",
    "    state int,\n",
    "    county int,\n",
    "    place int,\n",
    "    cousub int,\n",
    "    concit int,\n",
    "    primgeo_flag int,\n",
    "    funcstat int,\n",
    "    name string,\n",
    "    stname string,\n",
    "    census2010pop int,\n",
    "    estimatesbase2010 int,\n",
    "    popestimates2010 int,\n",
    "    popestimates2011 int,\n",
    "    popestimates2012 int,\n",
    "    popestimates2013 int,\n",
    "    popestimates2014 int,\n",
    "    popestimates2015 int,\n",
    "    popestimates2016 int,\n",
    "    popestimates2017 int,\n",
    "    popestimates2018 int\n",
    "         \n",
    ") ROW FORMAT DELIMITED FIELDS TERMINATED BY ',' LINES TERMINATED BY '\\\\n' LOCATION '{}'\n",
    "TBLPROPERTIES ('skip.header.line.count'='1')\"\"\".format(\n",
    "    database_name, table_name_csv_1, s3_path_1\n",
    ")\n",
    "\n",
    "create_table_1 = pd.read_sql(statement, conn)\n",
    "create_table_1"
   ]
  },
  {
   "cell_type": "code",
   "execution_count": null,
   "id": "7f5b422f-401b-41f9-a987-c4bf435bbb58",
   "metadata": {
    "tags": []
   },
   "outputs": [],
   "source": [
    "table_name_csv_2 = \"state_abbrev\"\n",
    "s3_path_2 = \"s3://{}/state_abbrev_data\".format(bucket)\n",
    "print(s3_path_2)"
   ]
  },
  {
   "cell_type": "code",
   "execution_count": null,
   "id": "38a3719e-9325-4a04-b1d8-749c39dec8cd",
   "metadata": {
    "tags": []
   },
   "outputs": [],
   "source": [
    "# SQL statement to execute\n",
    "\n",
    "statement = \"\"\"CREATE EXTERNAL TABLE IF NOT EXISTS {}.{}(\n",
    "   state string,\n",
    "   abbrev string,\n",
    "   code string\n",
    "         \n",
    ") ROW FORMAT SERDE 'org.apache.hadoop.hive.serde2.OpenCSVSerde'\n",
    "LOCATION '{}'\n",
    "TBLPROPERTIES ('skip.header.line.count'='1')\"\"\".format(\n",
    "    database_name, table_name_csv_2, s3_path_2\n",
    ")\n",
    "\n",
    "create_table_2 = pd.read_sql(statement, conn)\n",
    "create_table_2"
   ]
  },
  {
   "cell_type": "code",
   "execution_count": null,
   "id": "02660db2-771b-4ed6-95c0-19eca95e6a15",
   "metadata": {
    "tags": []
   },
   "outputs": [],
   "source": [
    "table_name_csv_3 = \"congress_2013_to_2018\"\n",
    "s3_path_3 = \"s3://{}/congress_data\".format(bucket)\n",
    "print(s3_path_3)"
   ]
  },
  {
   "cell_type": "code",
   "execution_count": null,
   "id": "8212c69d-22d2-4a91-818f-bcbf26616511",
   "metadata": {
    "tags": []
   },
   "outputs": [],
   "source": [
    "# SQL statement to execute\n",
    "\n",
    "statement = \"\"\"CREATE EXTERNAL TABLE IF NOT EXISTS {}.{}(\n",
    " id string,\n",
    " name string,\n",
    " sort_name string,\n",
    " email string,\n",
    " twitter string,\n",
    " facebook string,\n",
    " group string,\n",
    " group_id string,\n",
    " state string,\n",
    " district int,\n",
    " chamber string,\n",
    " year int,\n",
    " start_date date,\n",
    " end_date date,\n",
    " image string,\n",
    " gender string,\n",
    " wikidata string,\n",
    " wikidata_group string,\n",
    " wikidata_area string\n",
    " \n",
    "         \n",
    ") ROW FORMAT DELIMITED FIELDS TERMINATED BY ',' LINES TERMINATED BY '\\\\n' LOCATION '{}'\n",
    "TBLPROPERTIES ('skip.header.line.count'='1')\"\"\".format(\n",
    "    database_name, table_name_csv_3, s3_path_3\n",
    ")\n",
    "\n",
    "create_table_3 = pd.read_sql(statement, conn)\n",
    "create_table_3"
   ]
  },
  {
   "cell_type": "code",
   "execution_count": null,
   "id": "d31f0d59-80dc-4654-831c-a9979680a7f4",
   "metadata": {
    "tags": []
   },
   "outputs": [],
   "source": [
    "table_name_csv_4 = \"state_income\"\n",
    "s3_path_4 = \"s3://{}/state_income_data\".format(bucket)\n",
    "print(s3_path_4)"
   ]
  },
  {
   "cell_type": "code",
   "execution_count": null,
   "id": "e4fb67b7-762f-4d85-8bed-a15428ecf126",
   "metadata": {
    "tags": []
   },
   "outputs": [],
   "source": [
    "# SQL statement to execute\n",
    "\n",
    "statement = \"\"\"CREATE EXTERNAL TABLE IF NOT EXISTS {}.{}(\n",
    " id int,\n",
    " zipcode int,\n",
    " agi int,\n",
    " avg_agi int,\n",
    " groups string,\n",
    " avg_income int\n",
    " \n",
    "         \n",
    ") ROW FORMAT DELIMITED FIELDS TERMINATED BY ',' LINES TERMINATED BY '\\\\n' LOCATION '{}'\n",
    "TBLPROPERTIES ('skip.header.line.count'='1')\"\"\".format(\n",
    "    database_name, table_name_csv_4, s3_path_4\n",
    ")\n",
    "\n",
    "create_table_4 = pd.read_sql(statement, conn)\n",
    "create_table_4"
   ]
  },
  {
   "cell_type": "code",
   "execution_count": null,
   "id": "9283e75c-f4ae-47c1-aef5-f519c10b4b72",
   "metadata": {
    "tags": []
   },
   "outputs": [],
   "source": [
    "table_name_csv_5 = \"cities\"\n",
    "s3_path_5 = \"s3://{}/cities_data\".format(bucket)\n",
    "print(s3_path_5)"
   ]
  },
  {
   "cell_type": "code",
   "execution_count": null,
   "id": "0f611a66-ba04-41c2-a523-6cbc30e622d9",
   "metadata": {
    "tags": []
   },
   "outputs": [],
   "source": [
    "# SQL statement to execute\n",
    "\n",
    "statement = \"\"\"CREATE EXTERNAL TABLE IF NOT EXISTS {}.{}(\n",
    "    city string,\n",
    "    city_ascii string,\n",
    "    state_id string,\n",
    "    state_name string,\n",
    "    county_fips int,\n",
    "    county_name string,\n",
    "    lat string,\n",
    "    lng string,\n",
    "    population string,\n",
    "    density string,\n",
    "    source string,\n",
    "    military string,\n",
    "    incorporated string,\n",
    "    timezone string,\n",
    "    ranking int,\n",
    "    zips string,\n",
    "    id int)\n",
    "    \n",
    "ROW FORMAT SERDE \n",
    "  'org.apache.hadoop.hive.serde2.OpenCSVSerde' \n",
    "WITH SERDEPROPERTIES ( \n",
    "  'quoteChar'='\\\"', \n",
    "  'separatorChar'=',') \n",
    "LOCATION '{}'\n",
    "TBLPROPERTIES ('skip.header.line.count'='1')\"\"\".format(\n",
    "    database_name, table_name_csv_5, s3_path_5\n",
    ")\n",
    "\n",
    "create_table_5 = pd.read_sql(statement, conn)\n",
    "create_table_5"
   ]
  },
  {
   "cell_type": "code",
   "execution_count": null,
   "id": "83822cde-5e68-4f10-91d6-cbc6639eca29",
   "metadata": {
    "tags": []
   },
   "outputs": [],
   "source": [
    "statement = \"SHOW TABLES in ads508\"\n",
    "tables = pd.read_sql(statement, conn)\n",
    "tables"
   ]
  },
  {
   "cell_type": "code",
   "execution_count": null,
   "id": "2af401ce-8436-4e9a-9d9f-41f2f70e7e4d",
   "metadata": {
    "tags": []
   },
   "outputs": [],
   "source": [
    "statement = \"SELECT * from ads508.gun_violence LIMIT 100\"\n",
    "df = pd.read_sql(statement, conn)\n",
    "df.head(5)"
   ]
  },
  {
   "cell_type": "code",
   "execution_count": null,
   "id": "ea6f63c9-7a33-4d09-8b63-72947f9e3c4d",
   "metadata": {
    "tags": []
   },
   "outputs": [],
   "source": [
    "statement = \"SELECT * from ads508.est2018 LIMIT 100\"\n",
    "df_pop = pd.read_sql(statement, conn)\n",
    "df_pop.head(5)"
   ]
  },
  {
   "cell_type": "code",
   "execution_count": null,
   "id": "1bb0577c-4c67-4a55-b508-c2dfba9b4202",
   "metadata": {
    "tags": []
   },
   "outputs": [],
   "source": [
    "statement = \"SELECT * from ads508.congress_2013_to_2018 LIMIT 100\"\n",
    "df_cong = pd.read_sql(statement, conn)\n",
    "df_cong.head(5)"
   ]
  },
  {
   "cell_type": "code",
   "execution_count": null,
   "id": "ccfbaedc-9c13-4eef-9816-2832a50b3fa4",
   "metadata": {
    "tags": []
   },
   "outputs": [],
   "source": [
    "statement = \"SELECT * from ads508.state_abbrev LIMIT 100\"\n",
    "df_abbrev = pd.read_sql(statement, conn)\n",
    "df_abbrev.head(5)"
   ]
  },
  {
   "cell_type": "code",
   "execution_count": null,
   "id": "ffdfaa7e-a213-4395-8fe7-3806cc195815",
   "metadata": {
    "tags": []
   },
   "outputs": [],
   "source": [
    "statement = \"SELECT * from ads508.state_income LIMIT 100\"\n",
    "df_income = pd.read_sql(statement, conn)\n",
    "df_income.head(5)"
   ]
  },
  {
   "cell_type": "code",
   "execution_count": null,
   "id": "4515ce21-5ecf-4d64-8329-4795e929695a",
   "metadata": {
    "tags": []
   },
   "outputs": [],
   "source": [
    "statement = \"SELECT * from ads508.cities LIMIT 100\"\n",
    "df_cities = pd.read_sql(statement, conn)\n",
    "df_cities.head(5)"
   ]
  },
  {
   "cell_type": "markdown",
   "id": "32bde790-e6c1-4733-926a-e51d69433d4a",
   "metadata": {},
   "source": [
    "# Insert Dataset into Pandas Dataframe"
   ]
  },
  {
   "cell_type": "code",
   "execution_count": 140,
   "id": "9f21490b-1c10-46b3-9ea0-5a46af541a98",
   "metadata": {
    "tags": []
   },
   "outputs": [
    {
     "data": {
      "text/html": [
       "<div>\n",
       "<style scoped>\n",
       "    .dataframe tbody tr th:only-of-type {\n",
       "        vertical-align: middle;\n",
       "    }\n",
       "\n",
       "    .dataframe tbody tr th {\n",
       "        vertical-align: top;\n",
       "    }\n",
       "\n",
       "    .dataframe thead th {\n",
       "        text-align: right;\n",
       "    }\n",
       "</style>\n",
       "<table border=\"1\" class=\"dataframe\">\n",
       "  <thead>\n",
       "    <tr style=\"text-align: right;\">\n",
       "      <th></th>\n",
       "      <th>Unnamed: 0</th>\n",
       "      <th>target_class</th>\n",
       "      <th>Unnamed: 0.1</th>\n",
       "      <th>latitude</th>\n",
       "      <th>longitude</th>\n",
       "      <th>n_guns_involved</th>\n",
       "      <th>group_Democrat</th>\n",
       "      <th>ohe_drug</th>\n",
       "      <th>ohe_officer</th>\n",
       "      <th>ohe_gang</th>\n",
       "      <th>...</th>\n",
       "      <th>suspect_age_group_Adult</th>\n",
       "      <th>suspect_age_group_Senior</th>\n",
       "      <th>region_East South Central</th>\n",
       "      <th>region_Middle Atlantic</th>\n",
       "      <th>region_Mountain</th>\n",
       "      <th>region_New England</th>\n",
       "      <th>region_Pacific</th>\n",
       "      <th>region_South Atlantic</th>\n",
       "      <th>region_West North Central</th>\n",
       "      <th>region_West South Central</th>\n",
       "    </tr>\n",
       "  </thead>\n",
       "  <tbody>\n",
       "    <tr>\n",
       "      <th>0</th>\n",
       "      <td>0</td>\n",
       "      <td>1</td>\n",
       "      <td>0</td>\n",
       "      <td>40.3467</td>\n",
       "      <td>-79.8559</td>\n",
       "      <td>1.0</td>\n",
       "      <td>1</td>\n",
       "      <td>0</td>\n",
       "      <td>0</td>\n",
       "      <td>0</td>\n",
       "      <td>...</td>\n",
       "      <td>0</td>\n",
       "      <td>0</td>\n",
       "      <td>0</td>\n",
       "      <td>1</td>\n",
       "      <td>0</td>\n",
       "      <td>0</td>\n",
       "      <td>0</td>\n",
       "      <td>0</td>\n",
       "      <td>0</td>\n",
       "      <td>0</td>\n",
       "    </tr>\n",
       "    <tr>\n",
       "      <th>1</th>\n",
       "      <td>1</td>\n",
       "      <td>1</td>\n",
       "      <td>1</td>\n",
       "      <td>40.4555</td>\n",
       "      <td>-79.8970</td>\n",
       "      <td>1.0</td>\n",
       "      <td>1</td>\n",
       "      <td>0</td>\n",
       "      <td>0</td>\n",
       "      <td>0</td>\n",
       "      <td>...</td>\n",
       "      <td>0</td>\n",
       "      <td>0</td>\n",
       "      <td>0</td>\n",
       "      <td>1</td>\n",
       "      <td>0</td>\n",
       "      <td>0</td>\n",
       "      <td>0</td>\n",
       "      <td>0</td>\n",
       "      <td>0</td>\n",
       "      <td>0</td>\n",
       "    </tr>\n",
       "    <tr>\n",
       "      <th>2</th>\n",
       "      <td>2</td>\n",
       "      <td>1</td>\n",
       "      <td>2</td>\n",
       "      <td>33.9090</td>\n",
       "      <td>-118.3330</td>\n",
       "      <td>1.0</td>\n",
       "      <td>1</td>\n",
       "      <td>0</td>\n",
       "      <td>0</td>\n",
       "      <td>1</td>\n",
       "      <td>...</td>\n",
       "      <td>0</td>\n",
       "      <td>0</td>\n",
       "      <td>0</td>\n",
       "      <td>0</td>\n",
       "      <td>0</td>\n",
       "      <td>0</td>\n",
       "      <td>1</td>\n",
       "      <td>0</td>\n",
       "      <td>0</td>\n",
       "      <td>0</td>\n",
       "    </tr>\n",
       "    <tr>\n",
       "      <th>3</th>\n",
       "      <td>3</td>\n",
       "      <td>1</td>\n",
       "      <td>3</td>\n",
       "      <td>33.8447</td>\n",
       "      <td>-118.3070</td>\n",
       "      <td>1.0</td>\n",
       "      <td>1</td>\n",
       "      <td>0</td>\n",
       "      <td>0</td>\n",
       "      <td>0</td>\n",
       "      <td>...</td>\n",
       "      <td>0</td>\n",
       "      <td>0</td>\n",
       "      <td>0</td>\n",
       "      <td>0</td>\n",
       "      <td>0</td>\n",
       "      <td>0</td>\n",
       "      <td>1</td>\n",
       "      <td>0</td>\n",
       "      <td>0</td>\n",
       "      <td>0</td>\n",
       "    </tr>\n",
       "    <tr>\n",
       "      <th>4</th>\n",
       "      <td>4</td>\n",
       "      <td>1</td>\n",
       "      <td>4</td>\n",
       "      <td>33.9454</td>\n",
       "      <td>-118.3990</td>\n",
       "      <td>1.0</td>\n",
       "      <td>1</td>\n",
       "      <td>0</td>\n",
       "      <td>0</td>\n",
       "      <td>0</td>\n",
       "      <td>...</td>\n",
       "      <td>0</td>\n",
       "      <td>0</td>\n",
       "      <td>0</td>\n",
       "      <td>0</td>\n",
       "      <td>0</td>\n",
       "      <td>0</td>\n",
       "      <td>1</td>\n",
       "      <td>0</td>\n",
       "      <td>0</td>\n",
       "      <td>0</td>\n",
       "    </tr>\n",
       "  </tbody>\n",
       "</table>\n",
       "<p>5 rows × 42 columns</p>\n",
       "</div>"
      ],
      "text/plain": [
       "   Unnamed: 0  target_class  Unnamed: 0.1  latitude  longitude  \\\n",
       "0           0             1             0   40.3467   -79.8559   \n",
       "1           1             1             1   40.4555   -79.8970   \n",
       "2           2             1             2   33.9090  -118.3330   \n",
       "3           3             1             3   33.8447  -118.3070   \n",
       "4           4             1             4   33.9454  -118.3990   \n",
       "\n",
       "   n_guns_involved  group_Democrat  ohe_drug  ohe_officer  ohe_gang  ...  \\\n",
       "0              1.0               1         0            0         0  ...   \n",
       "1              1.0               1         0            0         0  ...   \n",
       "2              1.0               1         0            0         1  ...   \n",
       "3              1.0               1         0            0         0  ...   \n",
       "4              1.0               1         0            0         0  ...   \n",
       "\n",
       "   suspect_age_group_Adult  suspect_age_group_Senior  \\\n",
       "0                        0                         0   \n",
       "1                        0                         0   \n",
       "2                        0                         0   \n",
       "3                        0                         0   \n",
       "4                        0                         0   \n",
       "\n",
       "   region_East South Central  region_Middle Atlantic  region_Mountain  \\\n",
       "0                          0                       1                0   \n",
       "1                          0                       1                0   \n",
       "2                          0                       0                0   \n",
       "3                          0                       0                0   \n",
       "4                          0                       0                0   \n",
       "\n",
       "   region_New England  region_Pacific  region_South Atlantic  \\\n",
       "0                   0               0                      0   \n",
       "1                   0               0                      0   \n",
       "2                   0               1                      0   \n",
       "3                   0               1                      0   \n",
       "4                   0               1                      0   \n",
       "\n",
       "   region_West North Central  region_West South Central  \n",
       "0                          0                          0  \n",
       "1                          0                          0  \n",
       "2                          0                          0  \n",
       "3                          0                          0  \n",
       "4                          0                          0  \n",
       "\n",
       "[5 rows x 42 columns]"
      ]
     },
     "execution_count": 140,
     "metadata": {},
     "output_type": "execute_result"
    }
   ],
   "source": [
    "#df = pd.read_csv(\"{}/modeling/notebook2.csv\".format(s3_path))\n",
    "import pandas as pd\n",
    "#df = pd.read_csv(\"https://raw.githubusercontent.com/vivianndo/ads508_gunviolence/main/data_for_modeling.csv\")\n",
    "df = pd.read_csv(\"s3://sagemaker-us-east-1-898900188658/raw_files/train/training_set_backup-2.csv\")\n",
    "#df = pd.read_csv(\"s3://sagemaker-studio-458903497716-h2kl4ff3dz/modeling/data_for_modeling.csv\")\n",
    "df.head()"
   ]
  },
  {
   "cell_type": "code",
   "execution_count": 141,
   "id": "30bcb999-e2d2-411f-8306-9c5012d4d812",
   "metadata": {
    "tags": []
   },
   "outputs": [
    {
     "name": "stdout",
     "output_type": "stream",
     "text": [
      "Training size: 30500\n",
      "Validation size: 6536\n",
      "Test size: 6536\n",
      "Total size: 43572\n",
      "Training percentage: 0.7\n",
      "Validation percentage: 0.15\n",
      "Test percentage: 0.15\n"
     ]
    }
   ],
   "source": [
    "#Divide train set by .7, test set by .15, and valid set .15\n",
    "from sklearn.model_selection import train_test_split\n",
    "\n",
    "size_train = 30500\n",
    "size_valid = 6536\n",
    "size_test = 6536\n",
    "size_total = size_test + size_valid + size_train\n",
    "train, test = train_test_split(df, train_size = size_train,\\\n",
    "                               random_state = 777)\n",
    "valid, test = train_test_split(test, train_size = size_valid,\\\n",
    "                               random_state = 777)\n",
    "\n",
    "print('Training size:', size_train)\n",
    "print('Validation size:', size_valid)\n",
    "print('Test size:', size_test)\n",
    "print('Total size:', size_train + size_valid + size_test)\n",
    "print('Training percentage:', round(size_train/(size_total),2))\n",
    "print('Validation percentage:', round(size_valid/(size_total),2))\n",
    "print('Test percentage:', round(size_test/(size_total),2))"
   ]
  },
  {
   "cell_type": "code",
   "execution_count": 142,
   "id": "9a9ef87e-99b9-4b4d-85c1-702e743343ec",
   "metadata": {},
   "outputs": [
    {
     "name": "stderr",
     "output_type": "stream",
     "text": [
      "INFO:sagemaker.image_uris:Ignoring unnecessary instance type: None.\n"
     ]
    },
    {
     "name": "stdout",
     "output_type": "stream",
     "text": [
      "Success - the MySageMakerInstance is in the us-east-1 region. You will use the 811284229777.dkr.ecr.us-east-1.amazonaws.com/xgboost:latest container for your SageMaker endpoint.\n"
     ]
    }
   ],
   "source": [
    "# Define IAM role\n",
    "import boto3, re, sys, math, json, os, sagemaker, urllib.request\n",
    "import io\n",
    "import sagemaker\n",
    "from sagemaker import get_execution_role\n",
    "\n",
    "role = get_execution_role()\n",
    "\n",
    "# set the region of the instance\n",
    "my_region = boto3.session.Session().region_name \n",
    "\n",
    "# this line automatically looks for the XGBoost image URI and \n",
    "# builds an XGBoost container.\n",
    "xgboost_container = sagemaker.image_uris.retrieve(\"xgboost\", \n",
    "                                                  my_region, \n",
    "                                                  \"latest\")\n",
    "\n",
    "print(\"Success - the MySageMakerInstance is in the \" + my_region + \\\n",
    "      \" region. You will use the \" + xgboost_container + \\\n",
    "      \" container for your SageMaker endpoint.\")"
   ]
  },
  {
   "cell_type": "code",
   "execution_count": 143,
   "id": "a8c9be25-2af6-435e-8b5b-5280235e803a",
   "metadata": {},
   "outputs": [
    {
     "name": "stdout",
     "output_type": "stream",
     "text": [
      "(154242, 42) (66104, 42)\n"
     ]
    }
   ],
   "source": [
    "train, test = np.split(df.sample(frac=1, random_state=777), \n",
    "                                 [int(0.7 * len(df))])\n",
    "print(train.shape, test.shape)"
   ]
  },
  {
   "cell_type": "code",
   "execution_count": 150,
   "id": "2bbacd1f-e89d-4c87-8d3f-51f82dff42e8",
   "metadata": {
    "tags": []
   },
   "outputs": [
    {
     "name": "stdout",
     "output_type": "stream",
     "text": [
      "        target_class  Unnamed: 0.1  latitude  longitude  n_guns_involved  \\\n",
      "80490              1         80490   41.3156   -72.8972              1.0   \n",
      "6157               1          6157   40.8586   -73.8911              1.0   \n",
      "67175              0         67175   39.7533   -84.1558              2.0   \n",
      "123310             1        123310   40.6759   -89.6261              1.0   \n",
      "148005             1        148005   44.9512   -69.4184              1.0   \n",
      "\n",
      "        group_Democrat  ohe_drug  ohe_officer  ohe_gang  ohe_accident  ...  \\\n",
      "80490                1         0            0         0             0  ...   \n",
      "6157                 1         0            0         0             0  ...   \n",
      "67175                0         0            1         0             0  ...   \n",
      "123310               1         0            0         0             0  ...   \n",
      "148005               0         0            0         0             1  ...   \n",
      "\n",
      "        suspect_age_group_Adult  suspect_age_group_Senior  \\\n",
      "80490                         0                         0   \n",
      "6157                          0                         0   \n",
      "67175                         0                         0   \n",
      "123310                        0                         0   \n",
      "148005                        0                         0   \n",
      "\n",
      "        region_East South Central  region_Middle Atlantic  region_Mountain  \\\n",
      "80490                           0                       0                0   \n",
      "6157                            0                       1                0   \n",
      "67175                           0                       0                0   \n",
      "123310                          0                       0                0   \n",
      "148005                          0                       0                0   \n",
      "\n",
      "        region_New England  region_Pacific  region_South Atlantic  \\\n",
      "80490                    1               0                      0   \n",
      "6157                     0               0                      0   \n",
      "67175                    0               0                      0   \n",
      "123310                   0               0                      0   \n",
      "148005                   1               0                      0   \n",
      "\n",
      "        region_West North Central  region_West South Central  \n",
      "80490                           0                          0  \n",
      "6157                            0                          0  \n",
      "67175                           0                          0  \n",
      "123310                          0                          0  \n",
      "148005                          0                          0  \n",
      "\n",
      "[5 rows x 41 columns]\n"
     ]
    }
   ],
   "source": [
    "train.drop(columns=train.columns[0], axis=1,  inplace=True)\n",
    "print(train.head(5))"
   ]
  },
  {
   "cell_type": "code",
   "execution_count": 151,
   "id": "17b4fb8d-67e4-4c36-9810-38c7aa18e62a",
   "metadata": {
    "tags": []
   },
   "outputs": [],
   "source": [
    "s3_client = boto3.client(\"s3\")\n",
    "BUCKET='sagemaker-us-east-1-898900188658'\n",
    "KEY='raw_files/train/training_set_backup-2.csv'\n",
    "response = s3_client.get_object(Bucket=BUCKET, Key=KEY)\n",
    "\n",
    "with io.StringIO() as csv_buffer:\n",
    "    train.to_csv(csv_buffer, index=False, header=False)\n",
    "\n",
    "    response = s3_client.put_object(\n",
    "        Bucket=BUCKET, Key=KEY, Body=csv_buffer.getvalue()\n",
    "    )"
   ]
  },
  {
   "cell_type": "code",
   "execution_count": 152,
   "id": "ac0d977d-dc33-46e8-87ae-2bda5f8b4b7e",
   "metadata": {},
   "outputs": [],
   "source": [
    "# input training parameters\n",
    "s3_input_train = sagemaker.inputs.TrainingInput(s3_data=\\\n",
    "        's3://{}/raw_files/train'.format(bucket), content_type='csv')"
   ]
  },
  {
   "cell_type": "code",
   "execution_count": 153,
   "id": "53f56fb0-7f14-4e3b-b80f-43551bc09cf6",
   "metadata": {},
   "outputs": [],
   "source": [
    "sess = sagemaker.Session()\n",
    "xgb = sagemaker.estimator.Estimator(xgboost_container,role, \n",
    "                                    instance_count=1, \n",
    "                                    instance_type='ml.m5.large',\n",
    "                                    output_path='s3://{}/output'.format(bucket),\n",
    "                                    sagemaker_session=sess)\n",
    "# parse in the hyperparameters\n",
    "xgb.set_hyperparameters(max_depth=5,eta=0.2,gamma=4,min_child_weight=6,\n",
    "                        subsample=0.8,silent=0,\n",
    "                        objective='binary:logistic',num_round=100)"
   ]
  },
  {
   "cell_type": "code",
   "execution_count": 123,
   "id": "b8503cb3-d953-480e-bcff-655691928e54",
   "metadata": {
    "tags": []
   },
   "outputs": [
    {
     "name": "stdout",
     "output_type": "stream",
     "text": [
      "Index(['0', '1', '0.1', '40.3467', '-79.8559', '1.0', '1.1', '0.2', '0.3',\n",
      "       '0.4', '0.5', '0.6', '0.7', '0.8', '0.9', '1.2', '0.10', '0.11', '0.12',\n",
      "       '1.3', '0.13', '0.14', '0.15', '0.16', '0.17', '0.18', '0.19', '1.4',\n",
      "       '0.20', '0.21', '0.22', '1.5', '0.23', '0.24', '0.25', '1.6', '0.26',\n",
      "       '0.27', '0.28', '0.29', '0.30', '0.31'],\n",
      "      dtype='object')\n",
      "<sagemaker.inputs.TrainingInput object at 0x7f6a3e645850>\n"
     ]
    }
   ],
   "source": [
    "df_temp = pd.read_csv(\"s3://sagemaker-us-east-1-898900188658/raw_files/train/training_set_backup-2.csv\", skiprows=1)\n",
    "df_temp.to_csv(\"s3://sagemaker-us-east-1-898900188658/raw_files/train/training_set_backup-2.csv\")\n",
    "print(df_temp.columns)\n",
    "print(s3_input_train)"
   ]
  },
  {
   "cell_type": "code",
   "execution_count": 154,
   "id": "4c133956-352b-4914-bdde-06f47d157f24",
   "metadata": {},
   "outputs": [
    {
     "name": "stderr",
     "output_type": "stream",
     "text": [
      "INFO:sagemaker:Creating training-job with name: xgboost-2023-04-08-07-20-38-376\n"
     ]
    },
    {
     "name": "stdout",
     "output_type": "stream",
     "text": [
      "2023-04-08 07:20:38 Starting - Starting the training job...\n",
      "2023-04-08 07:20:54 Starting - Preparing the instances for training...\n",
      "2023-04-08 07:21:42 Downloading - Downloading input data......\n",
      "2023-04-08 07:22:22 Training - Downloading the training image...\n",
      "2023-04-08 07:22:58 Training - Training image download completed. Training in progress.\u001b[34mArguments: train\u001b[0m\n",
      "\u001b[34m[2023-04-08:07:23:02:INFO] Running standalone xgboost training.\u001b[0m\n",
      "\u001b[34m[2023-04-08:07:23:02:INFO] Path /opt/ml/input/data/validation does not exist!\u001b[0m\n",
      "\u001b[34m[2023-04-08:07:23:02:INFO] File size need to be processed in the node: 14.9mb. Available memory size in the node: 404.21mb\u001b[0m\n",
      "\u001b[34m[2023-04-08:07:23:02:INFO] Determined delimiter of CSV input is ','\u001b[0m\n",
      "\u001b[34m[07:23:02] S3DistributionType set as FullyReplicated\u001b[0m\n",
      "\u001b[34m[07:23:02] 154242x40 matrix with 6169680 entries loaded from /opt/ml/input/data/train?format=csv&label_column=0&delimiter=,\u001b[0m\n",
      "\u001b[34m[07:23:03] src/tree/updater_prune.cc:74: tree pruning end, 1 roots, 42 extra nodes, 6 pruned nodes, max_depth=5\u001b[0m\n",
      "\u001b[34m[0]#011train-error:0.260766\u001b[0m\n",
      "\u001b[34m[07:23:03] src/tree/updater_prune.cc:74: tree pruning end, 1 roots, 44 extra nodes, 2 pruned nodes, max_depth=5\u001b[0m\n",
      "\u001b[34m[1]#011train-error:0.259955\u001b[0m\n",
      "\u001b[34m[07:23:04] src/tree/updater_prune.cc:74: tree pruning end, 1 roots, 40 extra nodes, 6 pruned nodes, max_depth=5\u001b[0m\n",
      "\u001b[34m[2]#011train-error:0.244616\u001b[0m\n",
      "\u001b[34m[07:23:04] src/tree/updater_prune.cc:74: tree pruning end, 1 roots, 30 extra nodes, 2 pruned nodes, max_depth=5\u001b[0m\n",
      "\u001b[34m[3]#011train-error:0.244084\u001b[0m\n",
      "\u001b[34m[07:23:04] src/tree/updater_prune.cc:74: tree pruning end, 1 roots, 42 extra nodes, 4 pruned nodes, max_depth=5\u001b[0m\n",
      "\u001b[34m[4]#011train-error:0.244415\u001b[0m\n",
      "\u001b[34m[07:23:05] src/tree/updater_prune.cc:74: tree pruning end, 1 roots, 42 extra nodes, 0 pruned nodes, max_depth=5\u001b[0m\n",
      "\u001b[34m[5]#011train-error:0.228154\u001b[0m\n",
      "\u001b[34m[07:23:05] src/tree/updater_prune.cc:74: tree pruning end, 1 roots, 28 extra nodes, 14 pruned nodes, max_depth=5\u001b[0m\n",
      "\u001b[34m[6]#011train-error:0.229211\u001b[0m\n",
      "\u001b[34m[07:23:05] src/tree/updater_prune.cc:74: tree pruning end, 1 roots, 32 extra nodes, 2 pruned nodes, max_depth=5\u001b[0m\n",
      "\u001b[34m[7]#011train-error:0.228161\u001b[0m\n",
      "\u001b[34m[07:23:06] src/tree/updater_prune.cc:74: tree pruning end, 1 roots, 34 extra nodes, 4 pruned nodes, max_depth=5\u001b[0m\n",
      "\u001b[34m[8]#011train-error:0.221665\u001b[0m\n",
      "\u001b[34m[07:23:06] src/tree/updater_prune.cc:74: tree pruning end, 1 roots, 38 extra nodes, 0 pruned nodes, max_depth=5\u001b[0m\n",
      "\u001b[34m[9]#011train-error:0.221995\u001b[0m\n",
      "\u001b[34m[07:23:06] src/tree/updater_prune.cc:74: tree pruning end, 1 roots, 38 extra nodes, 2 pruned nodes, max_depth=5\u001b[0m\n",
      "\u001b[34m[10]#011train-error:0.220751\u001b[0m\n",
      "\u001b[34m[07:23:07] src/tree/updater_prune.cc:74: tree pruning end, 1 roots, 42 extra nodes, 0 pruned nodes, max_depth=5\u001b[0m\n",
      "\u001b[34m[11]#011train-error:0.218196\u001b[0m\n",
      "\u001b[34m[07:23:07] src/tree/updater_prune.cc:74: tree pruning end, 1 roots, 36 extra nodes, 6 pruned nodes, max_depth=5\u001b[0m\n",
      "\u001b[34m[12]#011train-error:0.217943\u001b[0m\n",
      "\u001b[34m[07:23:07] src/tree/updater_prune.cc:74: tree pruning end, 1 roots, 36 extra nodes, 8 pruned nodes, max_depth=5\u001b[0m\n",
      "\u001b[34m[13]#011train-error:0.21769\u001b[0m\n",
      "\u001b[34m[07:23:08] src/tree/updater_prune.cc:74: tree pruning end, 1 roots, 30 extra nodes, 2 pruned nodes, max_depth=5\u001b[0m\n",
      "\u001b[34m[14]#011train-error:0.216666\u001b[0m\n",
      "\u001b[34m[07:23:08] src/tree/updater_prune.cc:74: tree pruning end, 1 roots, 38 extra nodes, 8 pruned nodes, max_depth=5\u001b[0m\n",
      "\u001b[34m[15]#011train-error:0.214857\u001b[0m\n",
      "\u001b[34m[07:23:08] src/tree/updater_prune.cc:74: tree pruning end, 1 roots, 40 extra nodes, 8 pruned nodes, max_depth=5\u001b[0m\n",
      "\u001b[34m[16]#011train-error:0.215181\u001b[0m\n",
      "\u001b[34m[07:23:08] src/tree/updater_prune.cc:74: tree pruning end, 1 roots, 24 extra nodes, 10 pruned nodes, max_depth=5\u001b[0m\n",
      "\u001b[34m[17]#011train-error:0.212834\u001b[0m\n",
      "\u001b[34m[07:23:09] src/tree/updater_prune.cc:74: tree pruning end, 1 roots, 36 extra nodes, 12 pruned nodes, max_depth=5\u001b[0m\n",
      "\u001b[34m[18]#011train-error:0.212011\u001b[0m\n",
      "\u001b[34m[07:23:09] src/tree/updater_prune.cc:74: tree pruning end, 1 roots, 28 extra nodes, 12 pruned nodes, max_depth=5\u001b[0m\n",
      "\u001b[34m[19]#011train-error:0.21006\u001b[0m\n",
      "\u001b[34m[07:23:09] src/tree/updater_prune.cc:74: tree pruning end, 1 roots, 38 extra nodes, 12 pruned nodes, max_depth=5\u001b[0m\n",
      "\u001b[34m[20]#011train-error:0.210144\u001b[0m\n",
      "\u001b[34m[07:23:09] src/tree/updater_prune.cc:74: tree pruning end, 1 roots, 44 extra nodes, 8 pruned nodes, max_depth=5\u001b[0m\n",
      "\u001b[34m[21]#011train-error:0.206727\u001b[0m\n",
      "\u001b[34m[07:23:10] src/tree/updater_prune.cc:74: tree pruning end, 1 roots, 44 extra nodes, 6 pruned nodes, max_depth=5\u001b[0m\n",
      "\u001b[34m[22]#011train-error:0.207136\u001b[0m\n",
      "\u001b[34m[07:23:10] src/tree/updater_prune.cc:74: tree pruning end, 1 roots, 44 extra nodes, 4 pruned nodes, max_depth=5\u001b[0m\n",
      "\u001b[34m[23]#011train-error:0.205515\u001b[0m\n",
      "\u001b[34m[07:23:10] src/tree/updater_prune.cc:74: tree pruning end, 1 roots, 24 extra nodes, 8 pruned nodes, max_depth=5\u001b[0m\n",
      "\u001b[34m[24]#011train-error:0.205476\u001b[0m\n",
      "\u001b[34m[07:23:10] src/tree/updater_prune.cc:74: tree pruning end, 1 roots, 52 extra nodes, 2 pruned nodes, max_depth=5\u001b[0m\n",
      "\u001b[34m[25]#011train-error:0.205061\u001b[0m\n",
      "\u001b[34m[07:23:11] src/tree/updater_prune.cc:74: tree pruning end, 1 roots, 32 extra nodes, 0 pruned nodes, max_depth=5\u001b[0m\n",
      "\u001b[34m[26]#011train-error:0.204147\u001b[0m\n",
      "\u001b[34m[07:23:11] src/tree/updater_prune.cc:74: tree pruning end, 1 roots, 52 extra nodes, 4 pruned nodes, max_depth=5\u001b[0m\n",
      "\u001b[34m[27]#011train-error:0.20226\u001b[0m\n",
      "\u001b[34m[07:23:11] src/tree/updater_prune.cc:74: tree pruning end, 1 roots, 54 extra nodes, 0 pruned nodes, max_depth=5\u001b[0m\n",
      "\u001b[34m[28]#011train-error:0.200685\u001b[0m\n",
      "\u001b[34m[07:23:11] src/tree/updater_prune.cc:74: tree pruning end, 1 roots, 44 extra nodes, 8 pruned nodes, max_depth=5\u001b[0m\n",
      "\u001b[34m[29]#011train-error:0.201255\u001b[0m\n",
      "\u001b[34m[07:23:12] src/tree/updater_prune.cc:74: tree pruning end, 1 roots, 30 extra nodes, 8 pruned nodes, max_depth=5\u001b[0m\n",
      "\u001b[34m[30]#011train-error:0.200853\u001b[0m\n",
      "\u001b[34m[07:23:12] src/tree/updater_prune.cc:74: tree pruning end, 1 roots, 50 extra nodes, 6 pruned nodes, max_depth=5\u001b[0m\n",
      "\u001b[34m[31]#011train-error:0.199453\u001b[0m\n",
      "\u001b[34m[07:23:12] src/tree/updater_prune.cc:74: tree pruning end, 1 roots, 24 extra nodes, 4 pruned nodes, max_depth=5\u001b[0m\n",
      "\u001b[34m[32]#011train-error:0.1992\u001b[0m\n",
      "\u001b[34m[07:23:12] src/tree/updater_prune.cc:74: tree pruning end, 1 roots, 56 extra nodes, 2 pruned nodes, max_depth=5\u001b[0m\n",
      "\u001b[34m[33]#011train-error:0.199258\u001b[0m\n",
      "\u001b[34m[07:23:13] src/tree/updater_prune.cc:74: tree pruning end, 1 roots, 46 extra nodes, 10 pruned nodes, max_depth=5\u001b[0m\n",
      "\u001b[34m[34]#011train-error:0.198947\u001b[0m\n",
      "\u001b[34m[07:23:13] src/tree/updater_prune.cc:74: tree pruning end, 1 roots, 20 extra nodes, 6 pruned nodes, max_depth=5\u001b[0m\n",
      "\u001b[34m[35]#011train-error:0.199005\u001b[0m\n",
      "\u001b[34m[07:23:13] src/tree/updater_prune.cc:74: tree pruning end, 1 roots, 54 extra nodes, 4 pruned nodes, max_depth=5\u001b[0m\n",
      "\u001b[34m[36]#011train-error:0.198876\u001b[0m\n",
      "\u001b[34m[07:23:13] src/tree/updater_prune.cc:74: tree pruning end, 1 roots, 22 extra nodes, 8 pruned nodes, max_depth=5\u001b[0m\n",
      "\u001b[34m[37]#011train-error:0.198714\u001b[0m\n",
      "\u001b[34m[07:23:14] src/tree/updater_prune.cc:74: tree pruning end, 1 roots, 48 extra nodes, 12 pruned nodes, max_depth=5\u001b[0m\n",
      "\u001b[34m[38]#011train-error:0.198396\u001b[0m\n",
      "\u001b[34m[07:23:14] src/tree/updater_prune.cc:74: tree pruning end, 1 roots, 40 extra nodes, 12 pruned nodes, max_depth=5\u001b[0m\n",
      "\u001b[34m[39]#011train-error:0.197702\u001b[0m\n",
      "\u001b[34m[07:23:14] src/tree/updater_prune.cc:74: tree pruning end, 1 roots, 44 extra nodes, 4 pruned nodes, max_depth=5\u001b[0m\n",
      "\u001b[34m[40]#011train-error:0.196522\u001b[0m\n",
      "\u001b[34m[07:23:14] src/tree/updater_prune.cc:74: tree pruning end, 1 roots, 30 extra nodes, 8 pruned nodes, max_depth=5\u001b[0m\n",
      "\u001b[34m[41]#011train-error:0.196373\u001b[0m\n",
      "\u001b[34m[07:23:15] src/tree/updater_prune.cc:74: tree pruning end, 1 roots, 52 extra nodes, 8 pruned nodes, max_depth=5\u001b[0m\n",
      "\u001b[34m[42]#011train-error:0.19636\u001b[0m\n",
      "\u001b[34m[07:23:15] src/tree/updater_prune.cc:74: tree pruning end, 1 roots, 50 extra nodes, 4 pruned nodes, max_depth=5\u001b[0m\n",
      "\u001b[34m[43]#011train-error:0.196179\u001b[0m\n",
      "\u001b[34m[07:23:15] src/tree/updater_prune.cc:74: tree pruning end, 1 roots, 42 extra nodes, 12 pruned nodes, max_depth=5\u001b[0m\n",
      "\u001b[34m[44]#011train-error:0.195303\u001b[0m\n",
      "\u001b[34m[07:23:15] src/tree/updater_prune.cc:74: tree pruning end, 1 roots, 32 extra nodes, 10 pruned nodes, max_depth=5\u001b[0m\n",
      "\u001b[34m[45]#011train-error:0.195206\u001b[0m\n",
      "\u001b[34m[07:23:16] src/tree/updater_prune.cc:74: tree pruning end, 1 roots, 24 extra nodes, 4 pruned nodes, max_depth=5\u001b[0m\n",
      "\u001b[34m[46]#011train-error:0.195109\u001b[0m\n",
      "\u001b[34m[07:23:16] src/tree/updater_prune.cc:74: tree pruning end, 1 roots, 30 extra nodes, 0 pruned nodes, max_depth=5\u001b[0m\n",
      "\u001b[34m[47]#011train-error:0.195239\u001b[0m\n",
      "\u001b[34m[07:23:16] src/tree/updater_prune.cc:74: tree pruning end, 1 roots, 52 extra nodes, 6 pruned nodes, max_depth=5\u001b[0m\n",
      "\u001b[34m[48]#011train-error:0.194772\u001b[0m\n",
      "\u001b[34m[07:23:16] src/tree/updater_prune.cc:74: tree pruning end, 1 roots, 34 extra nodes, 16 pruned nodes, max_depth=5\u001b[0m\n",
      "\u001b[34m[49]#011train-error:0.194681\u001b[0m\n",
      "\u001b[34m[07:23:17] src/tree/updater_prune.cc:74: tree pruning end, 1 roots, 38 extra nodes, 10 pruned nodes, max_depth=5\u001b[0m\n",
      "\u001b[34m[50]#011train-error:0.194863\u001b[0m\n",
      "\u001b[34m[07:23:17] src/tree/updater_prune.cc:74: tree pruning end, 1 roots, 36 extra nodes, 10 pruned nodes, max_depth=5\u001b[0m\n",
      "\u001b[34m[51]#011train-error:0.194461\u001b[0m\n",
      "\u001b[34m[07:23:17] src/tree/updater_prune.cc:74: tree pruning end, 1 roots, 44 extra nodes, 10 pruned nodes, max_depth=5\u001b[0m\n",
      "\u001b[34m[52]#011train-error:0.194059\u001b[0m\n",
      "\u001b[34m[07:23:17] src/tree/updater_prune.cc:74: tree pruning end, 1 roots, 54 extra nodes, 6 pruned nodes, max_depth=5\u001b[0m\n",
      "\u001b[34m[53]#011train-error:0.193709\u001b[0m\n",
      "\u001b[34m[07:23:18] src/tree/updater_prune.cc:74: tree pruning end, 1 roots, 42 extra nodes, 6 pruned nodes, max_depth=5\u001b[0m\n",
      "\u001b[34m[54]#011train-error:0.193384\u001b[0m\n",
      "\u001b[34m[07:23:18] src/tree/updater_prune.cc:74: tree pruning end, 1 roots, 48 extra nodes, 6 pruned nodes, max_depth=5\u001b[0m\n",
      "\u001b[34m[55]#011train-error:0.193307\u001b[0m\n",
      "\u001b[34m[07:23:18] src/tree/updater_prune.cc:74: tree pruning end, 1 roots, 30 extra nodes, 2 pruned nodes, max_depth=5\u001b[0m\n",
      "\u001b[34m[56]#011train-error:0.193294\u001b[0m\n",
      "\u001b[34m[07:23:18] src/tree/updater_prune.cc:74: tree pruning end, 1 roots, 44 extra nodes, 10 pruned nodes, max_depth=5\u001b[0m\n",
      "\u001b[34m[57]#011train-error:0.192743\u001b[0m\n",
      "\u001b[34m[07:23:19] src/tree/updater_prune.cc:74: tree pruning end, 1 roots, 34 extra nodes, 10 pruned nodes, max_depth=5\u001b[0m\n",
      "\u001b[34m[58]#011train-error:0.19258\u001b[0m\n",
      "\u001b[34m[07:23:19] src/tree/updater_prune.cc:74: tree pruning end, 1 roots, 28 extra nodes, 12 pruned nodes, max_depth=5\u001b[0m\n",
      "\u001b[34m[59]#011train-error:0.192535\u001b[0m\n",
      "\u001b[34m[07:23:19] src/tree/updater_prune.cc:74: tree pruning end, 1 roots, 46 extra nodes, 2 pruned nodes, max_depth=5\u001b[0m\n",
      "\u001b[34m[60]#011train-error:0.192062\u001b[0m\n",
      "\u001b[34m[07:23:19] src/tree/updater_prune.cc:74: tree pruning end, 1 roots, 46 extra nodes, 4 pruned nodes, max_depth=5\u001b[0m\n",
      "\u001b[34m[61]#011train-error:0.191465\u001b[0m\n",
      "\u001b[34m[07:23:20] src/tree/updater_prune.cc:74: tree pruning end, 1 roots, 50 extra nodes, 2 pruned nodes, max_depth=5\u001b[0m\n",
      "\u001b[34m[62]#011train-error:0.191174\u001b[0m\n",
      "\u001b[34m[07:23:20] src/tree/updater_prune.cc:74: tree pruning end, 1 roots, 34 extra nodes, 8 pruned nodes, max_depth=5\u001b[0m\n",
      "\u001b[34m[63]#011train-error:0.191271\u001b[0m\n",
      "\u001b[34m[07:23:20] src/tree/updater_prune.cc:74: tree pruning end, 1 roots, 22 extra nodes, 8 pruned nodes, max_depth=5\u001b[0m\n",
      "\u001b[34m[64]#011train-error:0.191264\u001b[0m\n",
      "\u001b[34m[07:23:20] src/tree/updater_prune.cc:74: tree pruning end, 1 roots, 58 extra nodes, 2 pruned nodes, max_depth=5\u001b[0m\n",
      "\u001b[34m[65]#011train-error:0.190791\u001b[0m\n",
      "\u001b[34m[07:23:21] src/tree/updater_prune.cc:74: tree pruning end, 1 roots, 28 extra nodes, 4 pruned nodes, max_depth=5\u001b[0m\n",
      "\u001b[34m[66]#011train-error:0.190785\u001b[0m\n",
      "\u001b[34m[07:23:21] src/tree/updater_prune.cc:74: tree pruning end, 1 roots, 28 extra nodes, 4 pruned nodes, max_depth=5\u001b[0m\n",
      "\u001b[34m[67]#011train-error:0.190558\u001b[0m\n",
      "\u001b[34m[07:23:21] src/tree/updater_prune.cc:74: tree pruning end, 1 roots, 42 extra nodes, 4 pruned nodes, max_depth=5\u001b[0m\n",
      "\u001b[34m[68]#011train-error:0.190545\u001b[0m\n",
      "\u001b[34m[07:23:21] src/tree/updater_prune.cc:74: tree pruning end, 1 roots, 30 extra nodes, 14 pruned nodes, max_depth=5\u001b[0m\n",
      "\u001b[34m[69]#011train-error:0.190623\u001b[0m\n",
      "\u001b[34m[07:23:22] src/tree/updater_prune.cc:74: tree pruning end, 1 roots, 46 extra nodes, 2 pruned nodes, max_depth=5\u001b[0m\n",
      "\u001b[34m[70]#011train-error:0.190422\u001b[0m\n",
      "\u001b[34m[07:23:22] src/tree/updater_prune.cc:74: tree pruning end, 1 roots, 52 extra nodes, 8 pruned nodes, max_depth=5\u001b[0m\n",
      "\u001b[34m[71]#011train-error:0.190136\u001b[0m\n",
      "\u001b[34m[07:23:22] src/tree/updater_prune.cc:74: tree pruning end, 1 roots, 58 extra nodes, 0 pruned nodes, max_depth=5\u001b[0m\n",
      "\u001b[34m[72]#011train-error:0.189663\u001b[0m\n",
      "\u001b[34m[07:23:22] src/tree/updater_prune.cc:74: tree pruning end, 1 roots, 46 extra nodes, 10 pruned nodes, max_depth=5\u001b[0m\n",
      "\u001b[34m[73]#011train-error:0.189566\u001b[0m\n",
      "\u001b[34m[07:23:23] src/tree/updater_prune.cc:74: tree pruning end, 1 roots, 30 extra nodes, 2 pruned nodes, max_depth=5\u001b[0m\n",
      "\u001b[34m[74]#011train-error:0.189475\u001b[0m\n",
      "\u001b[34m[07:23:23] src/tree/updater_prune.cc:74: tree pruning end, 1 roots, 48 extra nodes, 8 pruned nodes, max_depth=5\u001b[0m\n",
      "\u001b[34m[75]#011train-error:0.189105\u001b[0m\n",
      "\u001b[34m[07:23:23] src/tree/updater_prune.cc:74: tree pruning end, 1 roots, 30 extra nodes, 0 pruned nodes, max_depth=5\u001b[0m\n",
      "\u001b[34m[76]#011train-error:0.188989\u001b[0m\n",
      "\u001b[34m[07:23:23] src/tree/updater_prune.cc:74: tree pruning end, 1 roots, 56 extra nodes, 6 pruned nodes, max_depth=5\u001b[0m\n",
      "\u001b[34m[77]#011train-error:0.187861\u001b[0m\n",
      "\u001b[34m[07:23:24] src/tree/updater_prune.cc:74: tree pruning end, 1 roots, 40 extra nodes, 8 pruned nodes, max_depth=5\u001b[0m\n",
      "\u001b[34m[78]#011train-error:0.187828\u001b[0m\n",
      "\u001b[34m[07:23:24] src/tree/updater_prune.cc:74: tree pruning end, 1 roots, 52 extra nodes, 6 pruned nodes, max_depth=5\u001b[0m\n",
      "\u001b[34m[79]#011train-error:0.187271\u001b[0m\n",
      "\u001b[34m[07:23:24] src/tree/updater_prune.cc:74: tree pruning end, 1 roots, 30 extra nodes, 0 pruned nodes, max_depth=5\u001b[0m\n",
      "\u001b[34m[80]#011train-error:0.187472\u001b[0m\n",
      "\u001b[34m[07:23:24] src/tree/updater_prune.cc:74: tree pruning end, 1 roots, 32 extra nodes, 12 pruned nodes, max_depth=5\u001b[0m\n",
      "\u001b[34m[81]#011train-error:0.187167\u001b[0m\n",
      "\u001b[34m[07:23:25] src/tree/updater_prune.cc:74: tree pruning end, 1 roots, 42 extra nodes, 10 pruned nodes, max_depth=5\u001b[0m\n",
      "\u001b[34m[82]#011train-error:0.186136\u001b[0m\n",
      "\u001b[34m[07:23:25] src/tree/updater_prune.cc:74: tree pruning end, 1 roots, 42 extra nodes, 4 pruned nodes, max_depth=5\u001b[0m\n",
      "\u001b[34m[83]#011train-error:0.185922\u001b[0m\n",
      "\u001b[34m[07:23:25] src/tree/updater_prune.cc:74: tree pruning end, 1 roots, 46 extra nodes, 8 pruned nodes, max_depth=5\u001b[0m\n",
      "\u001b[34m[84]#011train-error:0.185436\u001b[0m\n",
      "\u001b[34m[07:23:25] src/tree/updater_prune.cc:74: tree pruning end, 1 roots, 50 extra nodes, 6 pruned nodes, max_depth=5\u001b[0m\n",
      "\u001b[34m[85]#011train-error:0.185086\u001b[0m\n",
      "\u001b[34m[07:23:26] src/tree/updater_prune.cc:74: tree pruning end, 1 roots, 54 extra nodes, 2 pruned nodes, max_depth=5\u001b[0m\n",
      "\u001b[34m[86]#011train-error:0.183634\u001b[0m\n",
      "\u001b[34m[07:23:26] src/tree/updater_prune.cc:74: tree pruning end, 1 roots, 36 extra nodes, 10 pruned nodes, max_depth=5\u001b[0m\n",
      "\u001b[34m[87]#011train-error:0.18268\u001b[0m\n",
      "\u001b[34m[07:23:26] src/tree/updater_prune.cc:74: tree pruning end, 1 roots, 30 extra nodes, 20 pruned nodes, max_depth=5\u001b[0m\n",
      "\u001b[34m[88]#011train-error:0.182661\u001b[0m\n",
      "\u001b[34m[07:23:26] src/tree/updater_prune.cc:74: tree pruning end, 1 roots, 50 extra nodes, 4 pruned nodes, max_depth=5\u001b[0m\n",
      "\u001b[34m[89]#011train-error:0.182039\u001b[0m\n",
      "\u001b[34m[07:23:27] src/tree/updater_prune.cc:74: tree pruning end, 1 roots, 26 extra nodes, 0 pruned nodes, max_depth=5\u001b[0m\n",
      "\u001b[34m[90]#011train-error:0.182142\u001b[0m\n",
      "\u001b[34m[07:23:27] src/tree/updater_prune.cc:74: tree pruning end, 1 roots, 34 extra nodes, 2 pruned nodes, max_depth=5\u001b[0m\n",
      "\u001b[34m[91]#011train-error:0.181922\u001b[0m\n",
      "\u001b[34m[07:23:27] src/tree/updater_prune.cc:74: tree pruning end, 1 roots, 42 extra nodes, 12 pruned nodes, max_depth=5\u001b[0m\n",
      "\u001b[34m[92]#011train-error:0.181812\u001b[0m\n",
      "\u001b[34m[07:23:27] src/tree/updater_prune.cc:74: tree pruning end, 1 roots, 28 extra nodes, 6 pruned nodes, max_depth=5\u001b[0m\n",
      "\u001b[34m[93]#011train-error:0.181786\u001b[0m\n",
      "\u001b[34m[07:23:28] src/tree/updater_prune.cc:74: tree pruning end, 1 roots, 58 extra nodes, 4 pruned nodes, max_depth=5\u001b[0m\n",
      "\u001b[34m[94]#011train-error:0.181676\u001b[0m\n",
      "\u001b[34m[07:23:28] src/tree/updater_prune.cc:74: tree pruning end, 1 roots, 50 extra nodes, 4 pruned nodes, max_depth=5\u001b[0m\n",
      "\u001b[34m[95]#011train-error:0.181209\u001b[0m\n",
      "\u001b[34m[07:23:28] src/tree/updater_prune.cc:74: tree pruning end, 1 roots, 38 extra nodes, 4 pruned nodes, max_depth=5\u001b[0m\n",
      "\u001b[34m[96]#011train-error:0.180982\u001b[0m\n",
      "\u001b[34m[07:23:28] src/tree/updater_prune.cc:74: tree pruning end, 1 roots, 46 extra nodes, 2 pruned nodes, max_depth=5\u001b[0m\n",
      "\u001b[34m[97]#011train-error:0.180781\u001b[0m\n",
      "\u001b[34m[07:23:29] src/tree/updater_prune.cc:74: tree pruning end, 1 roots, 40 extra nodes, 10 pruned nodes, max_depth=5\u001b[0m\n",
      "\u001b[34m[98]#011train-error:0.180424\u001b[0m\n",
      "\u001b[34m[07:23:29] src/tree/updater_prune.cc:74: tree pruning end, 1 roots, 18 extra nodes, 8 pruned nodes, max_depth=5\u001b[0m\n",
      "\u001b[34m[99]#011train-error:0.180463\u001b[0m\n",
      "\n",
      "2023-04-08 07:23:44 Uploading - Uploading generated training model\n",
      "2023-04-08 07:23:44 Completed - Training job completed\n",
      "Training seconds: 122\n",
      "Billable seconds: 122\n"
     ]
    }
   ],
   "source": [
    "xgb.fit({'train': s3_input_train})"
   ]
  },
  {
   "cell_type": "code",
   "execution_count": 155,
   "id": "946122d8-1107-4a95-a67f-e7c2c7cfd9e9",
   "metadata": {},
   "outputs": [
    {
     "name": "stderr",
     "output_type": "stream",
     "text": [
      "INFO:sagemaker:Creating model with name: xgboost-2023-04-08-07-24-23-809\n",
      "INFO:sagemaker:Creating endpoint-config with name xgboost-2023-04-08-07-24-23-809\n",
      "INFO:sagemaker:Creating endpoint with name xgboost-2023-04-08-07-24-23-809\n"
     ]
    },
    {
     "name": "stdout",
     "output_type": "stream",
     "text": [
      "----!"
     ]
    }
   ],
   "source": [
    "xgb_predictor = xgb.deploy(initial_instance_count=1,\n",
    "                           instance_type='ml.m5.large')"
   ]
  },
  {
   "cell_type": "code",
   "execution_count": null,
   "id": "8e3405e1-70c2-4878-b064-bdb9eceb4d97",
   "metadata": {},
   "outputs": [],
   "source": [
    "from sagemaker.serializers import CSVSerializer\n",
    "\n",
    "# load the data into an array\n",
    "test_array = test.drop(['targ'], axis=1).values\n",
    "\n",
    "# set the serializer type\n",
    "xgb_predictor.serializer = CSVSerializer() \n",
    "\n",
    "# predict!\n",
    "predictions = xgb_predictor.predict(test_array).decode('utf-8') \n",
    "\n",
    "# and turn the prediction into an array\n",
    "predictions_array = np.fromstring(predictions[1:], sep=',') \n",
    "print(predictions_array.shape)\n"
   ]
  },
  {
   "cell_type": "code",
   "execution_count": null,
   "id": "54b74459-44d9-4733-b26f-0a3d37fb7609",
   "metadata": {},
   "outputs": [],
   "source": []
  }
 ],
 "metadata": {
  "availableInstances": [
   {
    "_defaultOrder": 0,
    "_isFastLaunch": true,
    "category": "General purpose",
    "gpuNum": 0,
    "hideHardwareSpecs": false,
    "memoryGiB": 4,
    "name": "ml.t3.medium",
    "vcpuNum": 2
   },
   {
    "_defaultOrder": 1,
    "_isFastLaunch": false,
    "category": "General purpose",
    "gpuNum": 0,
    "hideHardwareSpecs": false,
    "memoryGiB": 8,
    "name": "ml.t3.large",
    "vcpuNum": 2
   },
   {
    "_defaultOrder": 2,
    "_isFastLaunch": false,
    "category": "General purpose",
    "gpuNum": 0,
    "hideHardwareSpecs": false,
    "memoryGiB": 16,
    "name": "ml.t3.xlarge",
    "vcpuNum": 4
   },
   {
    "_defaultOrder": 3,
    "_isFastLaunch": false,
    "category": "General purpose",
    "gpuNum": 0,
    "hideHardwareSpecs": false,
    "memoryGiB": 32,
    "name": "ml.t3.2xlarge",
    "vcpuNum": 8
   },
   {
    "_defaultOrder": 4,
    "_isFastLaunch": true,
    "category": "General purpose",
    "gpuNum": 0,
    "hideHardwareSpecs": false,
    "memoryGiB": 8,
    "name": "ml.m5.large",
    "vcpuNum": 2
   },
   {
    "_defaultOrder": 5,
    "_isFastLaunch": false,
    "category": "General purpose",
    "gpuNum": 0,
    "hideHardwareSpecs": false,
    "memoryGiB": 16,
    "name": "ml.m5.xlarge",
    "vcpuNum": 4
   },
   {
    "_defaultOrder": 6,
    "_isFastLaunch": false,
    "category": "General purpose",
    "gpuNum": 0,
    "hideHardwareSpecs": false,
    "memoryGiB": 32,
    "name": "ml.m5.2xlarge",
    "vcpuNum": 8
   },
   {
    "_defaultOrder": 7,
    "_isFastLaunch": false,
    "category": "General purpose",
    "gpuNum": 0,
    "hideHardwareSpecs": false,
    "memoryGiB": 64,
    "name": "ml.m5.4xlarge",
    "vcpuNum": 16
   },
   {
    "_defaultOrder": 8,
    "_isFastLaunch": false,
    "category": "General purpose",
    "gpuNum": 0,
    "hideHardwareSpecs": false,
    "memoryGiB": 128,
    "name": "ml.m5.8xlarge",
    "vcpuNum": 32
   },
   {
    "_defaultOrder": 9,
    "_isFastLaunch": false,
    "category": "General purpose",
    "gpuNum": 0,
    "hideHardwareSpecs": false,
    "memoryGiB": 192,
    "name": "ml.m5.12xlarge",
    "vcpuNum": 48
   },
   {
    "_defaultOrder": 10,
    "_isFastLaunch": false,
    "category": "General purpose",
    "gpuNum": 0,
    "hideHardwareSpecs": false,
    "memoryGiB": 256,
    "name": "ml.m5.16xlarge",
    "vcpuNum": 64
   },
   {
    "_defaultOrder": 11,
    "_isFastLaunch": false,
    "category": "General purpose",
    "gpuNum": 0,
    "hideHardwareSpecs": false,
    "memoryGiB": 384,
    "name": "ml.m5.24xlarge",
    "vcpuNum": 96
   },
   {
    "_defaultOrder": 12,
    "_isFastLaunch": false,
    "category": "General purpose",
    "gpuNum": 0,
    "hideHardwareSpecs": false,
    "memoryGiB": 8,
    "name": "ml.m5d.large",
    "vcpuNum": 2
   },
   {
    "_defaultOrder": 13,
    "_isFastLaunch": false,
    "category": "General purpose",
    "gpuNum": 0,
    "hideHardwareSpecs": false,
    "memoryGiB": 16,
    "name": "ml.m5d.xlarge",
    "vcpuNum": 4
   },
   {
    "_defaultOrder": 14,
    "_isFastLaunch": false,
    "category": "General purpose",
    "gpuNum": 0,
    "hideHardwareSpecs": false,
    "memoryGiB": 32,
    "name": "ml.m5d.2xlarge",
    "vcpuNum": 8
   },
   {
    "_defaultOrder": 15,
    "_isFastLaunch": false,
    "category": "General purpose",
    "gpuNum": 0,
    "hideHardwareSpecs": false,
    "memoryGiB": 64,
    "name": "ml.m5d.4xlarge",
    "vcpuNum": 16
   },
   {
    "_defaultOrder": 16,
    "_isFastLaunch": false,
    "category": "General purpose",
    "gpuNum": 0,
    "hideHardwareSpecs": false,
    "memoryGiB": 128,
    "name": "ml.m5d.8xlarge",
    "vcpuNum": 32
   },
   {
    "_defaultOrder": 17,
    "_isFastLaunch": false,
    "category": "General purpose",
    "gpuNum": 0,
    "hideHardwareSpecs": false,
    "memoryGiB": 192,
    "name": "ml.m5d.12xlarge",
    "vcpuNum": 48
   },
   {
    "_defaultOrder": 18,
    "_isFastLaunch": false,
    "category": "General purpose",
    "gpuNum": 0,
    "hideHardwareSpecs": false,
    "memoryGiB": 256,
    "name": "ml.m5d.16xlarge",
    "vcpuNum": 64
   },
   {
    "_defaultOrder": 19,
    "_isFastLaunch": false,
    "category": "General purpose",
    "gpuNum": 0,
    "hideHardwareSpecs": false,
    "memoryGiB": 384,
    "name": "ml.m5d.24xlarge",
    "vcpuNum": 96
   },
   {
    "_defaultOrder": 20,
    "_isFastLaunch": false,
    "category": "General purpose",
    "gpuNum": 0,
    "hideHardwareSpecs": true,
    "memoryGiB": 0,
    "name": "ml.geospatial.interactive",
    "supportedImageNames": [
     "sagemaker-geospatial-v1-0"
    ],
    "vcpuNum": 0
   },
   {
    "_defaultOrder": 21,
    "_isFastLaunch": true,
    "category": "Compute optimized",
    "gpuNum": 0,
    "hideHardwareSpecs": false,
    "memoryGiB": 4,
    "name": "ml.c5.large",
    "vcpuNum": 2
   },
   {
    "_defaultOrder": 22,
    "_isFastLaunch": false,
    "category": "Compute optimized",
    "gpuNum": 0,
    "hideHardwareSpecs": false,
    "memoryGiB": 8,
    "name": "ml.c5.xlarge",
    "vcpuNum": 4
   },
   {
    "_defaultOrder": 23,
    "_isFastLaunch": false,
    "category": "Compute optimized",
    "gpuNum": 0,
    "hideHardwareSpecs": false,
    "memoryGiB": 16,
    "name": "ml.c5.2xlarge",
    "vcpuNum": 8
   },
   {
    "_defaultOrder": 24,
    "_isFastLaunch": false,
    "category": "Compute optimized",
    "gpuNum": 0,
    "hideHardwareSpecs": false,
    "memoryGiB": 32,
    "name": "ml.c5.4xlarge",
    "vcpuNum": 16
   },
   {
    "_defaultOrder": 25,
    "_isFastLaunch": false,
    "category": "Compute optimized",
    "gpuNum": 0,
    "hideHardwareSpecs": false,
    "memoryGiB": 72,
    "name": "ml.c5.9xlarge",
    "vcpuNum": 36
   },
   {
    "_defaultOrder": 26,
    "_isFastLaunch": false,
    "category": "Compute optimized",
    "gpuNum": 0,
    "hideHardwareSpecs": false,
    "memoryGiB": 96,
    "name": "ml.c5.12xlarge",
    "vcpuNum": 48
   },
   {
    "_defaultOrder": 27,
    "_isFastLaunch": false,
    "category": "Compute optimized",
    "gpuNum": 0,
    "hideHardwareSpecs": false,
    "memoryGiB": 144,
    "name": "ml.c5.18xlarge",
    "vcpuNum": 72
   },
   {
    "_defaultOrder": 28,
    "_isFastLaunch": false,
    "category": "Compute optimized",
    "gpuNum": 0,
    "hideHardwareSpecs": false,
    "memoryGiB": 192,
    "name": "ml.c5.24xlarge",
    "vcpuNum": 96
   },
   {
    "_defaultOrder": 29,
    "_isFastLaunch": true,
    "category": "Accelerated computing",
    "gpuNum": 1,
    "hideHardwareSpecs": false,
    "memoryGiB": 16,
    "name": "ml.g4dn.xlarge",
    "vcpuNum": 4
   },
   {
    "_defaultOrder": 30,
    "_isFastLaunch": false,
    "category": "Accelerated computing",
    "gpuNum": 1,
    "hideHardwareSpecs": false,
    "memoryGiB": 32,
    "name": "ml.g4dn.2xlarge",
    "vcpuNum": 8
   },
   {
    "_defaultOrder": 31,
    "_isFastLaunch": false,
    "category": "Accelerated computing",
    "gpuNum": 1,
    "hideHardwareSpecs": false,
    "memoryGiB": 64,
    "name": "ml.g4dn.4xlarge",
    "vcpuNum": 16
   },
   {
    "_defaultOrder": 32,
    "_isFastLaunch": false,
    "category": "Accelerated computing",
    "gpuNum": 1,
    "hideHardwareSpecs": false,
    "memoryGiB": 128,
    "name": "ml.g4dn.8xlarge",
    "vcpuNum": 32
   },
   {
    "_defaultOrder": 33,
    "_isFastLaunch": false,
    "category": "Accelerated computing",
    "gpuNum": 4,
    "hideHardwareSpecs": false,
    "memoryGiB": 192,
    "name": "ml.g4dn.12xlarge",
    "vcpuNum": 48
   },
   {
    "_defaultOrder": 34,
    "_isFastLaunch": false,
    "category": "Accelerated computing",
    "gpuNum": 1,
    "hideHardwareSpecs": false,
    "memoryGiB": 256,
    "name": "ml.g4dn.16xlarge",
    "vcpuNum": 64
   },
   {
    "_defaultOrder": 35,
    "_isFastLaunch": false,
    "category": "Accelerated computing",
    "gpuNum": 1,
    "hideHardwareSpecs": false,
    "memoryGiB": 61,
    "name": "ml.p3.2xlarge",
    "vcpuNum": 8
   },
   {
    "_defaultOrder": 36,
    "_isFastLaunch": false,
    "category": "Accelerated computing",
    "gpuNum": 4,
    "hideHardwareSpecs": false,
    "memoryGiB": 244,
    "name": "ml.p3.8xlarge",
    "vcpuNum": 32
   },
   {
    "_defaultOrder": 37,
    "_isFastLaunch": false,
    "category": "Accelerated computing",
    "gpuNum": 8,
    "hideHardwareSpecs": false,
    "memoryGiB": 488,
    "name": "ml.p3.16xlarge",
    "vcpuNum": 64
   },
   {
    "_defaultOrder": 38,
    "_isFastLaunch": false,
    "category": "Accelerated computing",
    "gpuNum": 8,
    "hideHardwareSpecs": false,
    "memoryGiB": 768,
    "name": "ml.p3dn.24xlarge",
    "vcpuNum": 96
   },
   {
    "_defaultOrder": 39,
    "_isFastLaunch": false,
    "category": "Memory Optimized",
    "gpuNum": 0,
    "hideHardwareSpecs": false,
    "memoryGiB": 16,
    "name": "ml.r5.large",
    "vcpuNum": 2
   },
   {
    "_defaultOrder": 40,
    "_isFastLaunch": false,
    "category": "Memory Optimized",
    "gpuNum": 0,
    "hideHardwareSpecs": false,
    "memoryGiB": 32,
    "name": "ml.r5.xlarge",
    "vcpuNum": 4
   },
   {
    "_defaultOrder": 41,
    "_isFastLaunch": false,
    "category": "Memory Optimized",
    "gpuNum": 0,
    "hideHardwareSpecs": false,
    "memoryGiB": 64,
    "name": "ml.r5.2xlarge",
    "vcpuNum": 8
   },
   {
    "_defaultOrder": 42,
    "_isFastLaunch": false,
    "category": "Memory Optimized",
    "gpuNum": 0,
    "hideHardwareSpecs": false,
    "memoryGiB": 128,
    "name": "ml.r5.4xlarge",
    "vcpuNum": 16
   },
   {
    "_defaultOrder": 43,
    "_isFastLaunch": false,
    "category": "Memory Optimized",
    "gpuNum": 0,
    "hideHardwareSpecs": false,
    "memoryGiB": 256,
    "name": "ml.r5.8xlarge",
    "vcpuNum": 32
   },
   {
    "_defaultOrder": 44,
    "_isFastLaunch": false,
    "category": "Memory Optimized",
    "gpuNum": 0,
    "hideHardwareSpecs": false,
    "memoryGiB": 384,
    "name": "ml.r5.12xlarge",
    "vcpuNum": 48
   },
   {
    "_defaultOrder": 45,
    "_isFastLaunch": false,
    "category": "Memory Optimized",
    "gpuNum": 0,
    "hideHardwareSpecs": false,
    "memoryGiB": 512,
    "name": "ml.r5.16xlarge",
    "vcpuNum": 64
   },
   {
    "_defaultOrder": 46,
    "_isFastLaunch": false,
    "category": "Memory Optimized",
    "gpuNum": 0,
    "hideHardwareSpecs": false,
    "memoryGiB": 768,
    "name": "ml.r5.24xlarge",
    "vcpuNum": 96
   },
   {
    "_defaultOrder": 47,
    "_isFastLaunch": false,
    "category": "Accelerated computing",
    "gpuNum": 1,
    "hideHardwareSpecs": false,
    "memoryGiB": 16,
    "name": "ml.g5.xlarge",
    "vcpuNum": 4
   },
   {
    "_defaultOrder": 48,
    "_isFastLaunch": false,
    "category": "Accelerated computing",
    "gpuNum": 1,
    "hideHardwareSpecs": false,
    "memoryGiB": 32,
    "name": "ml.g5.2xlarge",
    "vcpuNum": 8
   },
   {
    "_defaultOrder": 49,
    "_isFastLaunch": false,
    "category": "Accelerated computing",
    "gpuNum": 1,
    "hideHardwareSpecs": false,
    "memoryGiB": 64,
    "name": "ml.g5.4xlarge",
    "vcpuNum": 16
   },
   {
    "_defaultOrder": 50,
    "_isFastLaunch": false,
    "category": "Accelerated computing",
    "gpuNum": 1,
    "hideHardwareSpecs": false,
    "memoryGiB": 128,
    "name": "ml.g5.8xlarge",
    "vcpuNum": 32
   },
   {
    "_defaultOrder": 51,
    "_isFastLaunch": false,
    "category": "Accelerated computing",
    "gpuNum": 1,
    "hideHardwareSpecs": false,
    "memoryGiB": 256,
    "name": "ml.g5.16xlarge",
    "vcpuNum": 64
   },
   {
    "_defaultOrder": 52,
    "_isFastLaunch": false,
    "category": "Accelerated computing",
    "gpuNum": 4,
    "hideHardwareSpecs": false,
    "memoryGiB": 192,
    "name": "ml.g5.12xlarge",
    "vcpuNum": 48
   },
   {
    "_defaultOrder": 53,
    "_isFastLaunch": false,
    "category": "Accelerated computing",
    "gpuNum": 4,
    "hideHardwareSpecs": false,
    "memoryGiB": 384,
    "name": "ml.g5.24xlarge",
    "vcpuNum": 96
   },
   {
    "_defaultOrder": 54,
    "_isFastLaunch": false,
    "category": "Accelerated computing",
    "gpuNum": 8,
    "hideHardwareSpecs": false,
    "memoryGiB": 768,
    "name": "ml.g5.48xlarge",
    "vcpuNum": 192
   }
  ],
  "instance_type": "ml.c5.large",
  "kernelspec": {
   "display_name": "Python 3 (Data Science)",
   "language": "python",
   "name": "python3__SAGEMAKER_INTERNAL__arn:aws:sagemaker:us-east-1:081325390199:image/datascience-1.0"
  },
  "language_info": {
   "codemirror_mode": {
    "name": "ipython",
    "version": 3
   },
   "file_extension": ".py",
   "mimetype": "text/x-python",
   "name": "python",
   "nbconvert_exporter": "python",
   "pygments_lexer": "ipython3",
   "version": "3.7.10"
  }
 },
 "nbformat": 4,
 "nbformat_minor": 5
}
